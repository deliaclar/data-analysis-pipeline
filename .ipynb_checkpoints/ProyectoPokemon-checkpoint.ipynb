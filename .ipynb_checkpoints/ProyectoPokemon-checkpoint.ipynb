{
 "cells": [
  {
   "cell_type": "code",
   "execution_count": 1,
   "metadata": {},
   "outputs": [],
   "source": [
    "import pandas as pd\n",
    "import requests"
   ]
  },
  {
   "cell_type": "code",
   "execution_count": 2,
   "metadata": {},
   "outputs": [
    {
     "data": {
      "text/html": [
       "<div>\n",
       "<style scoped>\n",
       "    .dataframe tbody tr th:only-of-type {\n",
       "        vertical-align: middle;\n",
       "    }\n",
       "\n",
       "    .dataframe tbody tr th {\n",
       "        vertical-align: top;\n",
       "    }\n",
       "\n",
       "    .dataframe thead th {\n",
       "        text-align: right;\n",
       "    }\n",
       "</style>\n",
       "<table border=\"1\" class=\"dataframe\">\n",
       "  <thead>\n",
       "    <tr style=\"text-align: right;\">\n",
       "      <th></th>\n",
       "      <th>#</th>\n",
       "      <th>Name</th>\n",
       "      <th>Type 1</th>\n",
       "      <th>Type 2</th>\n",
       "      <th>Total</th>\n",
       "      <th>HP</th>\n",
       "      <th>Attack</th>\n",
       "      <th>Defense</th>\n",
       "      <th>Sp. Atk</th>\n",
       "      <th>Sp. Def</th>\n",
       "      <th>Speed</th>\n",
       "      <th>Generation</th>\n",
       "      <th>Legendary</th>\n",
       "    </tr>\n",
       "  </thead>\n",
       "  <tbody>\n",
       "    <tr>\n",
       "      <th>0</th>\n",
       "      <td>1</td>\n",
       "      <td>Bulbasaur</td>\n",
       "      <td>Grass</td>\n",
       "      <td>Poison</td>\n",
       "      <td>318</td>\n",
       "      <td>45</td>\n",
       "      <td>49</td>\n",
       "      <td>49</td>\n",
       "      <td>65</td>\n",
       "      <td>65</td>\n",
       "      <td>45</td>\n",
       "      <td>1</td>\n",
       "      <td>False</td>\n",
       "    </tr>\n",
       "    <tr>\n",
       "      <th>1</th>\n",
       "      <td>2</td>\n",
       "      <td>Ivysaur</td>\n",
       "      <td>Grass</td>\n",
       "      <td>Poison</td>\n",
       "      <td>405</td>\n",
       "      <td>60</td>\n",
       "      <td>62</td>\n",
       "      <td>63</td>\n",
       "      <td>80</td>\n",
       "      <td>80</td>\n",
       "      <td>60</td>\n",
       "      <td>1</td>\n",
       "      <td>False</td>\n",
       "    </tr>\n",
       "    <tr>\n",
       "      <th>2</th>\n",
       "      <td>3</td>\n",
       "      <td>Venusaur</td>\n",
       "      <td>Grass</td>\n",
       "      <td>Poison</td>\n",
       "      <td>525</td>\n",
       "      <td>80</td>\n",
       "      <td>82</td>\n",
       "      <td>83</td>\n",
       "      <td>100</td>\n",
       "      <td>100</td>\n",
       "      <td>80</td>\n",
       "      <td>1</td>\n",
       "      <td>False</td>\n",
       "    </tr>\n",
       "    <tr>\n",
       "      <th>3</th>\n",
       "      <td>3</td>\n",
       "      <td>VenusaurMega Venusaur</td>\n",
       "      <td>Grass</td>\n",
       "      <td>Poison</td>\n",
       "      <td>625</td>\n",
       "      <td>80</td>\n",
       "      <td>100</td>\n",
       "      <td>123</td>\n",
       "      <td>122</td>\n",
       "      <td>120</td>\n",
       "      <td>80</td>\n",
       "      <td>1</td>\n",
       "      <td>False</td>\n",
       "    </tr>\n",
       "    <tr>\n",
       "      <th>4</th>\n",
       "      <td>4</td>\n",
       "      <td>Charmander</td>\n",
       "      <td>Fire</td>\n",
       "      <td>NaN</td>\n",
       "      <td>309</td>\n",
       "      <td>39</td>\n",
       "      <td>52</td>\n",
       "      <td>43</td>\n",
       "      <td>60</td>\n",
       "      <td>50</td>\n",
       "      <td>65</td>\n",
       "      <td>1</td>\n",
       "      <td>False</td>\n",
       "    </tr>\n",
       "  </tbody>\n",
       "</table>\n",
       "</div>"
      ],
      "text/plain": [
       "   #                   Name Type 1  Type 2  Total  HP  Attack  Defense  \\\n",
       "0  1              Bulbasaur  Grass  Poison    318  45      49       49   \n",
       "1  2                Ivysaur  Grass  Poison    405  60      62       63   \n",
       "2  3               Venusaur  Grass  Poison    525  80      82       83   \n",
       "3  3  VenusaurMega Venusaur  Grass  Poison    625  80     100      123   \n",
       "4  4             Charmander   Fire     NaN    309  39      52       43   \n",
       "\n",
       "   Sp. Atk  Sp. Def  Speed  Generation  Legendary  \n",
       "0       65       65     45           1      False  \n",
       "1       80       80     60           1      False  \n",
       "2      100      100     80           1      False  \n",
       "3      122      120     80           1      False  \n",
       "4       60       50     65           1      False  "
      ]
     },
     "execution_count": 2,
     "metadata": {},
     "output_type": "execute_result"
    }
   ],
   "source": [
    "df=pd.read_csv(\"Pokemon.csv\")\n",
    "df.head()"
   ]
  },
  {
   "cell_type": "code",
   "execution_count": 3,
   "metadata": {},
   "outputs": [
    {
     "name": "stdout",
     "output_type": "stream",
     "text": [
      "{1: [7, ['chlorophyll', 'overgrow']], 2: [10, ['chlorophyll', 'overgrow']], 3: [20, ['chlorophyll', 'overgrow']], 4: [6, ['solar-power', 'blaze']], 5: [11, ['solar-power', 'blaze']], 6: [17, ['solar-power', 'blaze']], 7: [5, ['rain-dish', 'torrent']], 8: [10, ['rain-dish', 'torrent']], 9: [16, ['rain-dish', 'torrent']], 10: [3, ['run-away', 'shield-dust']], 11: [7, ['shed-skin']], 12: [11, ['tinted-lens', 'compound-eyes']], 13: [3, ['run-away', 'shield-dust']], 14: [6, ['shed-skin']], 15: [10, ['sniper', 'swarm']], 16: [3, ['big-pecks', 'tangled-feet', 'keen-eye']], 17: [11, ['big-pecks', 'tangled-feet', 'keen-eye']], 18: [15, ['big-pecks', 'tangled-feet', 'keen-eye']], 19: [3, ['hustle', 'guts', 'run-away']], 20: [7, ['hustle', 'guts', 'run-away']], 21: [3, ['sniper', 'keen-eye']], 22: [12, ['sniper', 'keen-eye']], 23: [20, ['unnerve', 'shed-skin', 'intimidate']], 24: [35, ['unnerve', 'shed-skin', 'intimidate']], 25: [4, ['lightning-rod', 'static']], 26: [8, ['lightning-rod', 'static']], 27: [6, ['sand-rush', 'sand-veil']], 28: [10, ['sand-rush', 'sand-veil']], 29: [4, ['hustle', 'rivalry', 'poison-point']], 30: [8, ['hustle', 'rivalry', 'poison-point']], 31: [13, ['sheer-force', 'rivalry', 'poison-point']], 32: [5, ['hustle', 'rivalry', 'poison-point']], 33: [9, ['hustle', 'rivalry', 'poison-point']], 34: [14, ['sheer-force', 'rivalry', 'poison-point']], 35: [6, ['friend-guard', 'magic-guard', 'cute-charm']], 36: [13, ['unaware', 'magic-guard', 'cute-charm']], 37: [6, ['drought', 'flash-fire']], 38: [11, ['drought', 'flash-fire']], 39: [5, ['friend-guard', 'competitive', 'cute-charm']], 40: [10, ['frisk', 'competitive', 'cute-charm']], 41: [8, ['infiltrator', 'inner-focus']], 42: [16, ['infiltrator', 'inner-focus']], 43: [5, ['run-away', 'chlorophyll']], 44: [8, ['stench', 'chlorophyll']], 45: [12, ['effect-spore', 'chlorophyll']], 46: [3, ['damp', 'dry-skin', 'effect-spore']], 47: [10, ['damp', 'dry-skin', 'effect-spore']], 48: [10, ['run-away', 'tinted-lens', 'compound-eyes']], 49: [15, ['wonder-skin', 'tinted-lens', 'shield-dust']], 50: [2, ['sand-force', 'arena-trap', 'sand-veil']], 51: [7, ['sand-force', 'arena-trap', 'sand-veil']], 52: [4, ['unnerve', 'technician', 'pickup']], 53: [10, ['unnerve', 'technician', 'limber']], 54: [8, ['swift-swim', 'cloud-nine', 'damp']], 55: [17, ['swift-swim', 'cloud-nine', 'damp']], 56: [5, ['defiant', 'anger-point', 'vital-spirit']], 57: [10, ['defiant', 'anger-point', 'vital-spirit']], 58: [7, ['justified', 'flash-fire', 'intimidate']], 59: [19, ['justified', 'flash-fire', 'intimidate']], 60: [6, ['swift-swim', 'damp', 'water-absorb']], 61: [10, ['swift-swim', 'damp', 'water-absorb']], 62: [13, ['swift-swim', 'damp', 'water-absorb']], 63: [9, ['magic-guard', 'inner-focus', 'synchronize']], 64: [13, ['magic-guard', 'inner-focus', 'synchronize']], 65: [15, ['magic-guard', 'inner-focus', 'synchronize']], 66: [8, ['steadfast', 'no-guard', 'guts']], 67: [15, ['steadfast', 'no-guard', 'guts']], 68: [16, ['steadfast', 'no-guard', 'guts']], 69: [7, ['gluttony', 'chlorophyll']], 70: [10, ['gluttony', 'chlorophyll']], 71: [17, ['gluttony', 'chlorophyll']], 72: [9, ['rain-dish', 'liquid-ooze', 'clear-body']], 73: [16, ['rain-dish', 'liquid-ooze', 'clear-body']], 74: [4, ['sand-veil', 'sturdy', 'rock-head']], 75: [10, ['sand-veil', 'sturdy', 'rock-head']], 76: [14, ['sand-veil', 'sturdy', 'rock-head']], 77: [10, ['flame-body', 'flash-fire', 'run-away']], 78: [17, ['flame-body', 'flash-fire', 'run-away']], 79: [12, ['regenerator', 'own-tempo', 'oblivious']], 80: [16, ['regenerator', 'own-tempo', 'oblivious']], 81: [3, ['analytic', 'sturdy', 'magnet-pull']], 82: [10, ['analytic', 'sturdy', 'magnet-pull']], 83: [8, ['defiant', 'inner-focus', 'keen-eye']], 84: [14, ['tangled-feet', 'early-bird', 'run-away']], 85: [18, ['tangled-feet', 'early-bird', 'run-away']], 86: [11, ['ice-body', 'hydration', 'thick-fat']], 87: [17, ['ice-body', 'hydration', 'thick-fat']], 88: [9, ['poison-touch', 'sticky-hold', 'stench']], 89: [12, ['poison-touch', 'sticky-hold', 'stench']], 90: [3, ['overcoat', 'skill-link', 'shell-armor']], 91: [15, ['overcoat', 'skill-link', 'shell-armor']], 92: [13, ['levitate']], 93: [16, ['levitate']], 94: [15, ['cursed-body']], 95: [88, ['weak-armor', 'sturdy', 'rock-head']], 96: [10, ['inner-focus', 'forewarn', 'insomnia']], 97: [16, ['inner-focus', 'forewarn', 'insomnia']], 98: [4, ['sheer-force', 'shell-armor', 'hyper-cutter']], 99: [13, ['sheer-force', 'shell-armor', 'hyper-cutter']], 100: [5, ['aftermath', 'static', 'soundproof']], 101: [12, ['aftermath', 'static', 'soundproof']], 102: [4, ['harvest', 'chlorophyll']], 103: [20, ['harvest', 'chlorophyll']], 104: [4, ['battle-armor', 'lightning-rod', 'rock-head']], 105: [10, ['battle-armor', 'lightning-rod', 'rock-head']], 106: [15, ['unburden', 'reckless', 'limber']], 107: [14, ['inner-focus', 'iron-fist', 'keen-eye']], 108: [12, ['cloud-nine', 'oblivious', 'own-tempo']], 109: [6, ['levitate']], 110: [12, ['levitate']], 111: [10, ['reckless', 'rock-head', 'lightning-rod']], 112: [19, ['reckless', 'rock-head', 'lightning-rod']], 113: [11, ['healer', 'serene-grace', 'natural-cure']], 114: [10, ['regenerator', 'leaf-guard', 'chlorophyll']], 115: [22, ['inner-focus', 'scrappy', 'early-bird']], 116: [4, ['damp', 'sniper', 'swift-swim']], 117: [12, ['damp', 'sniper', 'poison-point']], 118: [6, ['lightning-rod', 'water-veil', 'swift-swim']], 119: [13, ['lightning-rod', 'water-veil', 'swift-swim']], 120: [8, ['analytic', 'natural-cure', 'illuminate']], 121: [11, ['analytic', 'natural-cure', 'illuminate']], 122: [13, ['technician', 'filter', 'soundproof']], 123: [15, ['steadfast', 'technician', 'swarm']], 124: [14, ['dry-skin', 'forewarn', 'oblivious']], 125: [11, ['vital-spirit', 'static']], 126: [13, ['vital-spirit', 'flame-body']], 127: [15, ['moxie', 'mold-breaker', 'hyper-cutter']], 128: [14, ['sheer-force', 'anger-point', 'intimidate']], 129: [9, ['rattled', 'swift-swim']], 130: [65, ['moxie', 'intimidate']], 131: [25, ['hydration', 'shell-armor', 'water-absorb']], 132: [3, ['imposter', 'limber']], 133: [3, ['anticipation', 'adaptability', 'run-away']], 134: [10, ['hydration', 'water-absorb']], 135: [8, ['quick-feet', 'volt-absorb']], 136: [9, ['guts', 'flash-fire']], 137: [8, ['analytic', 'download', 'trace']], 138: [4, ['weak-armor', 'shell-armor', 'swift-swim']], 139: [10, ['weak-armor', 'shell-armor', 'swift-swim']], 140: [5, ['weak-armor', 'battle-armor', 'swift-swim']], 141: [13, ['weak-armor', 'battle-armor', 'swift-swim']], 142: [18, ['unnerve', 'pressure', 'rock-head']], 143: [21, ['gluttony', 'thick-fat', 'immunity']], 144: [17, ['snow-cloak', 'pressure']], 145: [16, ['static', 'pressure']], 146: [20, ['flame-body', 'pressure']], 147: [18, ['marvel-scale', 'shed-skin']], 148: [40, ['marvel-scale', 'shed-skin']], 149: [22, ['multiscale', 'inner-focus']], 150: [20, ['unnerve', 'pressure']], 151: [4, ['synchronize']], 152: [9, ['leaf-guard', 'overgrow']], 153: [12, ['leaf-guard', 'overgrow']], 154: [18, ['leaf-guard', 'overgrow']], 155: [5, ['flash-fire', 'blaze']], 156: [9, ['flash-fire', 'blaze']], 157: [17, ['flash-fire', 'blaze']], 158: [6, ['sheer-force', 'torrent']], 159: [11, ['sheer-force', 'torrent']], 160: [23, ['sheer-force', 'torrent']], 161: [8, ['frisk', 'keen-eye', 'run-away']], 162: [18, ['frisk', 'keen-eye', 'run-away']], 163: [7, ['tinted-lens', 'keen-eye', 'insomnia']], 164: [16, ['tinted-lens', 'keen-eye', 'insomnia']], 165: [10, ['rattled', 'early-bird', 'swarm']], 166: [14, ['iron-fist', 'early-bird', 'swarm']], 167: [5, ['sniper', 'insomnia', 'swarm']], 168: [11, ['sniper', 'insomnia', 'swarm']], 169: [18, ['infiltrator', 'inner-focus']], 170: [5, ['water-absorb', 'illuminate', 'volt-absorb']], 171: [12, ['water-absorb', 'illuminate', 'volt-absorb']], 172: [3, ['lightning-rod', 'static']], 173: [3, ['friend-guard', 'magic-guard', 'cute-charm']], 174: [3, ['friend-guard', 'competitive', 'cute-charm']], 175: [3, ['super-luck', 'serene-grace', 'hustle']], 176: [6, ['super-luck', 'serene-grace', 'hustle']], 177: [2, ['magic-bounce', 'early-bird', 'synchronize']], 178: [15, ['magic-bounce', 'early-bird', 'synchronize']], 179: [6, ['plus', 'static']], 180: [8, ['plus', 'static']], 181: [14, ['plus', 'static']], 182: [4, ['healer', 'chlorophyll']], 183: [4, ['sap-sipper', 'huge-power', 'thick-fat']], 184: [8, ['sap-sipper', 'huge-power', 'thick-fat']], 185: [12, ['rattled', 'rock-head', 'sturdy']], 186: [11, ['drizzle', 'damp', 'water-absorb']], 187: [4, ['infiltrator', 'leaf-guard', 'chlorophyll']], 188: [6, ['infiltrator', 'leaf-guard', 'chlorophyll']], 189: [8, ['infiltrator', 'leaf-guard', 'chlorophyll']], 190: [8, ['skill-link', 'pickup', 'run-away']], 191: [3, ['early-bird', 'solar-power', 'chlorophyll']], 192: [8, ['early-bird', 'solar-power', 'chlorophyll']], 193: [12, ['frisk', 'compound-eyes', 'speed-boost']], 194: [4, ['unaware', 'water-absorb', 'damp']], 195: [14, ['unaware', 'water-absorb', 'damp']], 196: [9, ['magic-bounce', 'synchronize']], 197: [10, ['inner-focus', 'synchronize']], 198: [5, ['prankster', 'super-luck', 'insomnia']], 199: [20, ['regenerator', 'own-tempo', 'oblivious']], 200: [7, ['levitate']], 201: [5, ['levitate']], 202: [13, ['telepathy', 'shadow-tag']], 203: [15, ['sap-sipper', 'early-bird', 'inner-focus']], 204: [6, ['overcoat', 'sturdy']], 205: [12, ['overcoat', 'sturdy']], 206: [15, ['rattled', 'run-away', 'serene-grace']], 207: [11, ['immunity', 'sand-veil', 'hyper-cutter']], 208: [92, ['sheer-force', 'sturdy', 'rock-head']], 209: [6, ['rattled', 'run-away', 'intimidate']], 210: [14, ['rattled', 'quick-feet', 'intimidate']], 211: [5, ['intimidate', 'swift-swim', 'poison-point']], 212: [18, ['light-metal', 'technician', 'swarm']], 213: [6, ['contrary', 'gluttony', 'sturdy']], 214: [15, ['moxie', 'guts', 'swarm']], 215: [9, ['pickpocket', 'keen-eye', 'inner-focus']], 216: [6, ['honey-gather', 'quick-feet', 'pickup']], 217: [18, ['unnerve', 'quick-feet', 'guts']], 218: [7, ['weak-armor', 'flame-body', 'magma-armor']], 219: [8, ['weak-armor', 'flame-body', 'magma-armor']], 220: [4, ['thick-fat', 'snow-cloak', 'oblivious']], 221: [11, ['thick-fat', 'snow-cloak', 'oblivious']], 222: [6, ['regenerator', 'natural-cure', 'hustle']], 223: [6, ['moody', 'sniper', 'hustle']], 224: [9, ['moody', 'sniper', 'suction-cups']], 225: [9, ['insomnia', 'hustle', 'vital-spirit']], 226: [21, ['water-veil', 'water-absorb', 'swift-swim']], 227: [17, ['weak-armor', 'sturdy', 'keen-eye']], 228: [6, ['unnerve', 'flash-fire', 'early-bird']], 229: [14, ['unnerve', 'flash-fire', 'early-bird']], 230: [18, ['damp', 'sniper', 'swift-swim']], 231: [5, ['sand-veil', 'pickup']], 232: [11, ['sand-veil', 'sturdy']], 233: [6, ['analytic', 'download', 'trace']], 234: [14, ['sap-sipper', 'frisk', 'intimidate']], 235: [12, ['moody', 'technician', 'own-tempo']], 236: [7, ['vital-spirit', 'steadfast', 'guts']], 237: [14, ['steadfast', 'technician', 'intimidate']], 238: [4, ['hydration', 'forewarn', 'oblivious']], 239: [6, ['vital-spirit', 'static']], 240: [7, ['vital-spirit', 'flame-body']], 241: [12, ['sap-sipper', 'scrappy', 'thick-fat']], 242: [15, ['healer', 'serene-grace', 'natural-cure']], 243: [19, ['inner-focus', 'pressure']], 244: [21, ['inner-focus', 'pressure']], 245: [20, ['inner-focus', 'pressure']], 246: [6, ['sand-veil', 'guts']], 247: [12, ['shed-skin']], 248: [20, ['unnerve', 'sand-stream']], 249: [52, ['multiscale', 'pressure']], 250: [38, ['regenerator', 'pressure']], 251: [6, ['natural-cure']], 252: [5, ['unburden', 'overgrow']], 253: [9, ['unburden', 'overgrow']], 254: [17, ['unburden', 'overgrow']], 255: [4, ['speed-boost', 'blaze']], 256: [9, ['speed-boost', 'blaze']], 257: [19, ['speed-boost', 'blaze']], 258: [4, ['damp', 'torrent']], 259: [7, ['damp', 'torrent']], 260: [15, ['damp', 'torrent']], 261: [5, ['rattled', 'quick-feet', 'run-away']], 262: [10, ['moxie', 'quick-feet', 'intimidate']], 263: [4, ['quick-feet', 'gluttony', 'pickup']], 264: [5, ['quick-feet', 'gluttony', 'pickup']], 265: [3, ['run-away', 'shield-dust']], 266: [6, ['shed-skin']], 267: [10, ['rivalry', 'swarm']], 268: [7, ['shed-skin']], 269: [12, ['compound-eyes', 'shield-dust']], 270: [5, ['own-tempo', 'rain-dish', 'swift-swim']], 271: [12, ['own-tempo', 'rain-dish', 'swift-swim']], 272: [15, ['own-tempo', 'rain-dish', 'swift-swim']], 273: [5, ['pickpocket', 'early-bird', 'chlorophyll']], 274: [10, ['pickpocket', 'early-bird', 'chlorophyll']], 275: [13, ['pickpocket', 'early-bird', 'chlorophyll']], 276: [3, ['scrappy', 'guts']], 277: [7, ['scrappy', 'guts']], 278: [6, ['rain-dish', 'hydration', 'keen-eye']], 279: [12, ['rain-dish', 'drizzle', 'keen-eye']], 280: [4, ['telepathy', 'trace', 'synchronize']], 281: [8, ['telepathy', 'trace', 'synchronize']], 282: [16, ['telepathy', 'trace', 'synchronize']], 283: [5, ['rain-dish', 'swift-swim']], 284: [8, ['unnerve', 'intimidate']], 285: [4, ['quick-feet', 'poison-heal', 'effect-spore']], 286: [12, ['technician', 'poison-heal', 'effect-spore']], 287: [8, ['truant']], 288: [14, ['vital-spirit']], 289: [20, ['truant']], 290: [5, ['run-away', 'compound-eyes']], 291: [8, ['infiltrator', 'speed-boost']], 292: [8, ['wonder-guard']], 293: [6, ['rattled', 'soundproof']], 294: [10, ['scrappy', 'soundproof']], 295: [15, ['scrappy', 'soundproof']], 296: [10, ['sheer-force', 'guts', 'thick-fat']], 297: [23, ['sheer-force', 'guts', 'thick-fat']], 298: [2, ['sap-sipper', 'huge-power', 'thick-fat']], 299: [10, ['sand-force', 'magnet-pull', 'sturdy']], 300: [6, ['wonder-skin', 'normalize', 'cute-charm']], 301: [11, ['wonder-skin', 'normalize', 'cute-charm']], 302: [5, ['prankster', 'stall', 'keen-eye']], 303: [6, ['sheer-force', 'intimidate', 'hyper-cutter']], 304: [4, ['heavy-metal', 'rock-head', 'sturdy']], 305: [9, ['heavy-metal', 'rock-head', 'sturdy']], 306: [21, ['heavy-metal', 'rock-head', 'sturdy']], 307: [6, ['telepathy', 'pure-power']], 308: [13, ['telepathy', 'pure-power']], 309: [6, ['minus', 'lightning-rod', 'static']], 310: [15, ['minus', 'lightning-rod', 'static']], 311: [4, ['lightning-rod', 'plus']], 312: [4, ['volt-absorb', 'minus']], 313: [7, ['prankster', 'swarm', 'illuminate']], 314: [6, ['prankster', 'tinted-lens', 'oblivious']], 315: [3, ['leaf-guard', 'poison-point', 'natural-cure']], 316: [4, ['gluttony', 'sticky-hold', 'liquid-ooze']], 317: [17, ['gluttony', 'sticky-hold', 'liquid-ooze']], 318: [8, ['speed-boost', 'rough-skin']], 319: [18, ['speed-boost', 'rough-skin']], 320: [20, ['pressure', 'oblivious', 'water-veil']], 321: [145, ['pressure', 'oblivious', 'water-veil']], 322: [7, ['own-tempo', 'simple', 'oblivious']], 323: [19, ['anger-point', 'solid-rock', 'magma-armor']], 324: [5, ['shell-armor', 'drought', 'white-smoke']], 325: [7, ['gluttony', 'own-tempo', 'thick-fat']], 326: [9, ['gluttony', 'own-tempo', 'thick-fat']], 327: [11, ['contrary', 'tangled-feet', 'own-tempo']], 328: [7, ['sheer-force', 'arena-trap', 'hyper-cutter']], 329: [11, ['levitate']], 330: [20, ['levitate']], 331: [4, ['water-absorb', 'sand-veil']], 332: [13, ['water-absorb', 'sand-veil']], 333: [4, ['cloud-nine', 'natural-cure']], 334: [11, ['cloud-nine', 'natural-cure']], 335: [13, ['toxic-boost', 'immunity']], 336: [27, ['infiltrator', 'shed-skin']], 337: [10, ['levitate']], 338: [12, ['levitate']], 339: [4, ['hydration', 'anticipation', 'oblivious']], 340: [9, ['hydration', 'anticipation', 'oblivious']], 341: [6, ['adaptability', 'shell-armor', 'hyper-cutter']], 342: [11, ['adaptability', 'shell-armor', 'hyper-cutter']], 343: [5, ['levitate']], 344: [15, ['levitate']], 345: [10, ['storm-drain', 'suction-cups']], 346: [15, ['storm-drain', 'suction-cups']], 347: [7, ['swift-swim', 'battle-armor']], 348: [15, ['swift-swim', 'battle-armor']], 349: [6, ['adaptability', 'oblivious', 'swift-swim']], 350: [62, ['cute-charm', 'competitive', 'marvel-scale']], 351: [3, ['forecast']], 352: [10, ['protean', 'color-change']], 353: [6, ['cursed-body', 'frisk', 'insomnia']], 354: [11, ['cursed-body', 'frisk', 'insomnia']], 355: [8, ['frisk', 'levitate']], 356: [16, ['frisk', 'pressure']], 357: [20, ['harvest', 'solar-power', 'chlorophyll']], 358: [6, ['levitate']], 359: [12, ['justified', 'super-luck', 'pressure']], 360: [6, ['telepathy', 'shadow-tag']], 361: [7, ['moody', 'ice-body', 'inner-focus']], 362: [15, ['moody', 'ice-body', 'inner-focus']], 363: [8, ['oblivious', 'ice-body', 'thick-fat']], 364: [11, ['oblivious', 'ice-body', 'thick-fat']]}\n"
     ]
    }
   ],
   "source": [
    "BASE_URL=\"https://pokeapi.co/api/v2/pokemon/\"\n",
    "ids=df[\"#\"].values\n",
    "ids1=ids[0:int(len(ids)/2)]\n",
    "ids2=ids[int(len(ids)/2):]\n",
    "res=[]\n",
    "#height\n",
    "#move-> name\n",
    "#abilities->ability->name\n",
    "h=[]\n",
    "ab=dict()\n",
    "for e in ids1:\n",
    "    res=requests.get(BASE_URL + str(e)).json()\n",
    "    list=[]\n",
    "    for e in res.get(\"abilities\"):\n",
    "        list.append(e.get(\"ability\").get(\"name\"))\n",
    "    ab[res.get(\"id\")]=[res.get(\"height\"),list]\n",
    "#x=requests.get(BASE_URL+ \"1\")\n",
    "\n",
    "#m=x.get(\"moves\")\n",
    "#moves=[]\n",
    "#for e in m:\n",
    "#    moves.append(e.get(\"move\").get(\"name\"))\n",
    "#print(moves)\n",
    "#abilities=x.get(\"abilities\")\n",
    "#list=[]\n",
    "#for e in abilities:\n",
    " #   list.append(e.get(\"ability\").get(\"name\"))\n",
    "#ab[x.get(\"id\")]=list\n",
    "print(ab)\n",
    "\n",
    "#ab[x.get(\"id\")]=[a.get(\"name\") for a in abilities]\n",
    "#print(ab)\n",
    "#for e in range(1,50):\n",
    " #   res.append(requests.get(BASE_URL + str(e)).text)\n",
    "    \n",
    "    \n",
    "#print(res)\n",
    "    "
   ]
  },
  {
   "cell_type": "code",
   "execution_count": 4,
   "metadata": {},
   "outputs": [
    {
     "name": "stdout",
     "output_type": "stream",
     "text": [
      "   ID  Height     Ability1  Ability2 Ability3\n",
      "0   1       7  chlorophyll  overgrow     None\n",
      "1   2      10  chlorophyll  overgrow     None\n",
      "2   3      20  chlorophyll  overgrow     None\n",
      "3   4       6  solar-power     blaze     None\n",
      "4   5      11  solar-power     blaze     None\n"
     ]
    }
   ],
   "source": [
    "import numpy as np\n",
    "from itertools import chain\n",
    "lista=[x for x in chain.from_iterable(ab.values())]\n",
    "ids2=[x for x in ab.keys()]\n",
    "ht=[]\n",
    "a1=[]\n",
    "a2=[]\n",
    "a3=[]\n",
    "i=0\n",
    "l=0\n",
    "while i<len(lista):\n",
    "    ht.append(lista[i])\n",
    "    a1.append(lista[i+1][0])\n",
    "    try:\n",
    "        a2.append(lista[i+1][1])\n",
    "    except Exception:\n",
    "        a2.append(\"None\")\n",
    "    try:\n",
    "        a3.append(lista[i+1][2])\n",
    "    except Exception:\n",
    "        a3.append(\"None\")\n",
    "    i+=2\n",
    "    \n",
    "data={\n",
    "\t\"ID\": ids2,\n",
    "\t\"Height\":ht,\n",
    "\t\"Ability1\":a1,\n",
    "\t\"Ability2\":a2,\n",
    "\t\"Ability3\":a3\n",
    "}\n",
    "df2=pd.DataFrame(data)\n",
    "print(df2.head())"
   ]
  },
  {
   "cell_type": "code",
   "execution_count": 5,
   "metadata": {},
   "outputs": [
    {
     "name": "stdout",
     "output_type": "stream",
     "text": [
      "<class 'dict_values'>\n"
     ]
    }
   ],
   "source": [
    "print(type(ab.values()))"
   ]
  },
  {
   "cell_type": "code",
   "execution_count": 6,
   "metadata": {},
   "outputs": [],
   "source": [
    "ab2=dict()\n",
    "ids3=ids[int(len(ids)/2):]\n",
    "for e in ids3:\n",
    "    res2=requests.get(BASE_URL + str(e)).json()\n",
    "    list=[]\n",
    "    for e in res2.get(\"abilities\"):\n",
    "        list.append(e.get(\"ability\").get(\"name\"))\n",
    "    ab2[res2.get(\"id\")]=[res2.get(\"height\"),list]"
   ]
  },
  {
   "cell_type": "code",
   "execution_count": 7,
   "metadata": {},
   "outputs": [
    {
     "name": "stdout",
     "output_type": "stream",
     "text": [
      "{365: [14, ['oblivious', 'ice-body', 'thick-fat']], 366: [4, ['rattled', 'shell-armor']], 367: [17, ['water-veil', 'swift-swim']], 368: [18, ['hydration', 'swift-swim']], 369: [10, ['sturdy', 'rock-head', 'swift-swim']], 370: [6, ['hydration', 'swift-swim']], 371: [6, ['sheer-force', 'rock-head']], 372: [11, ['overcoat', 'rock-head']], 373: [15, ['moxie', 'intimidate']], 374: [6, ['light-metal', 'clear-body']], 375: [12, ['light-metal', 'clear-body']], 376: [16, ['light-metal', 'clear-body']], 377: [17, ['sturdy', 'clear-body']], 378: [18, ['ice-body', 'clear-body']], 379: [19, ['light-metal', 'clear-body']], 380: [14, ['levitate']], 381: [20, ['levitate']], 382: [45, ['drizzle']], 383: [35, ['drought']], 384: [70, ['air-lock']], 385: [3, ['serene-grace']], 386: [17, ['pressure']], 387: [4, ['shell-armor', 'overgrow']], 388: [11, ['shell-armor', 'overgrow']], 389: [22, ['shell-armor', 'overgrow']], 390: [5, ['iron-fist', 'blaze']], 391: [9, ['iron-fist', 'blaze']], 392: [12, ['iron-fist', 'blaze']], 393: [4, ['defiant', 'torrent']], 394: [8, ['defiant', 'torrent']], 395: [17, ['defiant', 'torrent']], 396: [3, ['reckless', 'keen-eye']], 397: [6, ['reckless', 'intimidate']], 398: [12, ['reckless', 'intimidate']], 399: [5, ['moody', 'unaware', 'simple']], 400: [10, ['moody', 'unaware', 'simple']], 401: [3, ['run-away', 'shed-skin']], 402: [10, ['technician', 'swarm']], 403: [5, ['guts', 'intimidate', 'rivalry']], 404: [9, ['guts', 'intimidate', 'rivalry']], 405: [14, ['guts', 'intimidate', 'rivalry']], 406: [2, ['leaf-guard', 'poison-point', 'natural-cure']], 407: [9, ['technician', 'poison-point', 'natural-cure']], 408: [9, ['sheer-force', 'mold-breaker']], 409: [16, ['sheer-force', 'mold-breaker']], 410: [5, ['soundproof', 'sturdy']], 411: [13, ['soundproof', 'sturdy']], 412: [2, ['overcoat', 'shed-skin']], 413: [5, ['overcoat', 'anticipation']], 414: [9, ['tinted-lens', 'swarm']], 415: [3, ['hustle', 'honey-gather']], 416: [12, ['unnerve', 'pressure']], 417: [4, ['volt-absorb', 'pickup', 'run-away']], 418: [7, ['water-veil', 'swift-swim']], 419: [11, ['water-veil', 'swift-swim']], 420: [4, ['chlorophyll']], 421: [5, ['flower-gift']], 422: [3, ['sand-force', 'storm-drain', 'sticky-hold']], 423: [9, ['sand-force', 'storm-drain', 'sticky-hold']], 424: [12, ['skill-link', 'pickup', 'technician']], 425: [4, ['flare-boost', 'unburden', 'aftermath']], 426: [12, ['flare-boost', 'unburden', 'aftermath']], 427: [4, ['limber', 'klutz', 'run-away']], 428: [12, ['limber', 'klutz', 'cute-charm']], 429: [9, ['levitate']], 430: [9, ['moxie', 'super-luck', 'insomnia']], 431: [5, ['keen-eye', 'own-tempo', 'limber']], 432: [10, ['defiant', 'own-tempo', 'thick-fat']], 433: [2, ['levitate']], 434: [4, ['keen-eye', 'aftermath', 'stench']], 435: [10, ['keen-eye', 'aftermath', 'stench']], 436: [5, ['heavy-metal', 'heatproof', 'levitate']], 437: [13, ['heavy-metal', 'heatproof', 'levitate']], 438: [5, ['rattled', 'rock-head', 'sturdy']], 439: [6, ['technician', 'filter', 'soundproof']], 440: [6, ['friend-guard', 'serene-grace', 'natural-cure']], 441: [5, ['big-pecks', 'tangled-feet', 'keen-eye']], 442: [10, ['infiltrator', 'pressure']], 443: [7, ['rough-skin', 'sand-veil']], 444: [14, ['rough-skin', 'sand-veil']], 445: [19, ['rough-skin', 'sand-veil']], 446: [6, ['gluttony', 'thick-fat', 'pickup']], 447: [7, ['prankster', 'inner-focus', 'steadfast']], 448: [12, ['justified', 'inner-focus', 'steadfast']], 449: [8, ['sand-force', 'sand-stream']], 450: [20, ['sand-force', 'sand-stream']], 451: [8, ['keen-eye', 'sniper', 'battle-armor']], 452: [13, ['keen-eye', 'sniper', 'battle-armor']], 453: [7, ['poison-touch', 'dry-skin', 'anticipation']], 454: [13, ['poison-touch', 'dry-skin', 'anticipation']], 455: [14, ['levitate']], 456: [4, ['water-veil', 'storm-drain', 'swift-swim']], 457: [12, ['water-veil', 'storm-drain', 'swift-swim']], 458: [10, ['water-veil', 'water-absorb', 'swift-swim']], 459: [10, ['soundproof', 'snow-warning']], 460: [22, ['soundproof', 'snow-warning']], 461: [11, ['pickpocket', 'pressure']], 462: [12, ['analytic', 'sturdy', 'magnet-pull']], 463: [17, ['cloud-nine', 'oblivious', 'own-tempo']], 464: [24, ['reckless', 'solid-rock', 'lightning-rod']], 465: [20, ['regenerator', 'leaf-guard', 'chlorophyll']], 466: [18, ['vital-spirit', 'motor-drive']], 467: [16, ['vital-spirit', 'flame-body']], 468: [15, ['super-luck', 'serene-grace', 'hustle']], 469: [19, ['frisk', 'tinted-lens', 'speed-boost']], 470: [10, ['chlorophyll', 'leaf-guard']], 471: [8, ['ice-body', 'snow-cloak']], 472: [20, ['poison-heal', 'sand-veil', 'hyper-cutter']], 473: [25, ['thick-fat', 'snow-cloak', 'oblivious']], 474: [9, ['analytic', 'download', 'adaptability']], 475: [16, ['justified', 'steadfast']], 476: [14, ['sand-force', 'magnet-pull', 'sturdy']], 477: [22, ['frisk', 'pressure']], 478: [13, ['cursed-body', 'snow-cloak']], 479: [3, ['levitate']], 480: [3, ['levitate']], 481: [3, ['levitate']], 482: [3, ['levitate']], 483: [54, ['telepathy', 'pressure']], 484: [42, ['telepathy', 'pressure']], 485: [17, ['flame-body', 'flash-fire']], 486: [37, ['slow-start']], 487: [45, ['telepathy', 'pressure']], 488: [15, ['levitate']], 489: [4, ['hydration']], 490: [3, ['hydration']], 491: [15, ['bad-dreams']], 492: [2, ['natural-cure']], 493: [32, ['multitype']], 494: [4, ['victory-star']], 495: [6, ['contrary', 'overgrow']], 496: [8, ['contrary', 'overgrow']], 497: [33, ['contrary', 'overgrow']], 498: [5, ['thick-fat', 'blaze']], 499: [10, ['thick-fat', 'blaze']], 500: [16, ['reckless', 'blaze']], 501: [5, ['shell-armor', 'torrent']], 502: [8, ['shell-armor', 'torrent']], 503: [15, ['shell-armor', 'torrent']], 504: [5, ['analytic', 'keen-eye', 'run-away']], 505: [11, ['analytic', 'keen-eye', 'illuminate']], 506: [4, ['run-away', 'pickup', 'vital-spirit']], 507: [9, ['scrappy', 'sand-rush', 'intimidate']], 508: [12, ['scrappy', 'sand-rush', 'intimidate']], 509: [4, ['prankster', 'unburden', 'limber']], 510: [11, ['prankster', 'unburden', 'limber']], 511: [6, ['overgrow', 'gluttony']], 512: [11, ['overgrow', 'gluttony']], 513: [6, ['blaze', 'gluttony']], 514: [10, ['blaze', 'gluttony']], 515: [6, ['torrent', 'gluttony']], 516: [10, ['torrent', 'gluttony']], 517: [6, ['telepathy', 'synchronize', 'forewarn']], 518: [11, ['telepathy', 'synchronize', 'forewarn']], 519: [3, ['rivalry', 'super-luck', 'big-pecks']], 520: [6, ['rivalry', 'super-luck', 'big-pecks']], 521: [12, ['rivalry', 'super-luck', 'big-pecks']], 522: [8, ['sap-sipper', 'motor-drive', 'lightning-rod']], 523: [16, ['sap-sipper', 'motor-drive', 'lightning-rod']], 524: [4, ['sand-force', 'weak-armor', 'sturdy']], 525: [9, ['sand-force', 'weak-armor', 'sturdy']], 526: [17, ['sand-force', 'sand-stream', 'sturdy']], 527: [4, ['simple', 'klutz', 'unaware']], 528: [9, ['simple', 'klutz', 'unaware']], 529: [3, ['mold-breaker', 'sand-force', 'sand-rush']], 530: [7, ['mold-breaker', 'sand-force', 'sand-rush']], 531: [11, ['klutz', 'regenerator', 'healer']], 532: [6, ['iron-fist', 'sheer-force', 'guts']], 533: [12, ['iron-fist', 'sheer-force', 'guts']], 534: [14, ['iron-fist', 'sheer-force', 'guts']], 535: [5, ['water-absorb', 'hydration', 'swift-swim']], 536: [8, ['water-absorb', 'hydration', 'swift-swim']], 537: [15, ['water-absorb', 'poison-touch', 'swift-swim']], 538: [13, ['mold-breaker', 'inner-focus', 'guts']], 539: [14, ['mold-breaker', 'inner-focus', 'sturdy']], 540: [3, ['overcoat', 'chlorophyll', 'swarm']], 541: [5, ['overcoat', 'chlorophyll', 'leaf-guard']], 542: [12, ['overcoat', 'chlorophyll', 'swarm']], 543: [4, ['speed-boost', 'swarm', 'poison-point']], 544: [12, ['speed-boost', 'swarm', 'poison-point']], 545: [25, ['speed-boost', 'swarm', 'poison-point']], 546: [3, ['chlorophyll', 'infiltrator', 'prankster']], 547: [7, ['chlorophyll', 'infiltrator', 'prankster']], 548: [5, ['leaf-guard', 'own-tempo', 'chlorophyll']], 549: [11, ['leaf-guard', 'own-tempo', 'chlorophyll']], 550: [10, ['mold-breaker', 'adaptability', 'reckless']], 551: [7, ['anger-point', 'moxie', 'intimidate']], 552: [10, ['anger-point', 'moxie', 'intimidate']], 553: [15, ['anger-point', 'moxie', 'intimidate']], 554: [6, ['inner-focus', 'hustle']], 555: [13, ['zen-mode', 'sheer-force']], 556: [10, ['storm-drain', 'chlorophyll', 'water-absorb']], 557: [3, ['weak-armor', 'shell-armor', 'sturdy']], 558: [14, ['weak-armor', 'shell-armor', 'sturdy']], 559: [6, ['intimidate', 'moxie', 'shed-skin']], 560: [11, ['intimidate', 'moxie', 'shed-skin']], 561: [14, ['tinted-lens', 'magic-guard', 'wonder-skin']], 562: [5, ['mummy']], 563: [17, ['mummy']], 564: [7, ['swift-swim', 'sturdy', 'solid-rock']], 565: [12, ['swift-swim', 'sturdy', 'solid-rock']], 566: [5, ['defeatist']], 567: [14, ['defeatist']], 568: [6, ['aftermath', 'sticky-hold', 'stench']], 569: [19, ['aftermath', 'weak-armor', 'stench']], 570: [7, ['illusion']], 571: [16, ['illusion']], 572: [4, ['skill-link', 'technician', 'cute-charm']], 573: [5, ['skill-link', 'technician', 'cute-charm']], 574: [4, ['shadow-tag', 'competitive', 'frisk']], 575: [7, ['shadow-tag', 'competitive', 'frisk']], 576: [15, ['shadow-tag', 'competitive', 'frisk']], 577: [3, ['regenerator', 'magic-guard', 'overcoat']], 578: [6, ['regenerator', 'magic-guard', 'overcoat']], 579: [10, ['regenerator', 'magic-guard', 'overcoat']], 580: [5, ['hydration', 'big-pecks', 'keen-eye']], 581: [13, ['hydration', 'big-pecks', 'keen-eye']], 582: [4, ['weak-armor', 'snow-cloak', 'ice-body']], 583: [11, ['weak-armor', 'snow-cloak', 'ice-body']], 584: [13, ['weak-armor', 'snow-warning', 'ice-body']], 585: [6, ['serene-grace', 'sap-sipper', 'chlorophyll']], 586: [19, ['serene-grace', 'sap-sipper', 'chlorophyll']], 587: [4, ['motor-drive', 'static']], 588: [5, ['no-guard', 'shed-skin', 'swarm']], 589: [10, ['overcoat', 'shell-armor', 'swarm']], 590: [2, ['regenerator', 'effect-spore']], 591: [6, ['regenerator', 'effect-spore']], 592: [12, ['damp', 'cursed-body', 'water-absorb']], 593: [22, ['damp', 'cursed-body', 'water-absorb']], 594: [12, ['regenerator', 'hydration', 'healer']], 595: [1, ['swarm', 'unnerve', 'compound-eyes']], 596: [8, ['swarm', 'unnerve', 'compound-eyes']], 597: [6, ['iron-barbs']], 598: [10, ['anticipation', 'iron-barbs']], 599: [3, ['clear-body', 'minus', 'plus']], 600: [6, ['clear-body', 'minus', 'plus']], 601: [6, ['clear-body', 'minus', 'plus']], 602: [2, ['levitate']], 603: [12, ['levitate']], 604: [21, ['levitate']], 605: [5, ['analytic', 'synchronize', 'telepathy']], 606: [10, ['analytic', 'synchronize', 'telepathy']], 607: [3, ['infiltrator', 'flame-body', 'flash-fire']], 608: [6, ['infiltrator', 'flame-body', 'flash-fire']], 609: [10, ['infiltrator', 'flame-body', 'flash-fire']], 610: [6, ['unnerve', 'mold-breaker', 'rivalry']], 611: [10, ['unnerve', 'mold-breaker', 'rivalry']], 612: [18, ['unnerve', 'mold-breaker', 'rivalry']], 613: [5, ['rattled', 'slush-rush', 'snow-cloak']], 614: [26, ['swift-swim', 'slush-rush', 'snow-cloak']], 615: [11, ['levitate']], 616: [4, ['overcoat', 'shell-armor', 'hydration']], 617: [8, ['unburden', 'sticky-hold', 'hydration']], 618: [7, ['sand-veil', 'limber', 'static']], 619: [9, ['reckless', 'regenerator', 'inner-focus']], 620: [14, ['reckless', 'regenerator', 'inner-focus']], 621: [16, ['mold-breaker', 'sheer-force', 'rough-skin']], 622: [10, ['no-guard', 'klutz', 'iron-fist']], 623: [28, ['no-guard', 'klutz', 'iron-fist']], 624: [5, ['pressure', 'inner-focus', 'defiant']], 625: [16, ['pressure', 'inner-focus', 'defiant']], 626: [16, ['soundproof', 'sap-sipper', 'reckless']], 627: [5, ['hustle', 'sheer-force', 'keen-eye']], 628: [15, ['defiant', 'sheer-force', 'keen-eye']], 629: [5, ['weak-armor', 'overcoat', 'big-pecks']], 630: [12, ['weak-armor', 'overcoat', 'big-pecks']], 631: [14, ['white-smoke', 'flash-fire', 'gluttony']], 632: [3, ['truant', 'hustle', 'swarm']], 633: [8, ['hustle']], 634: [14, ['hustle']], 635: [18, ['levitate']], 636: [11, ['swarm', 'flame-body']], 637: [16, ['swarm', 'flame-body']], 638: [21, ['justified']], 639: [19, ['justified']], 640: [20, ['justified']], 641: [15, ['defiant', 'prankster']], 642: [15, ['defiant', 'prankster']], 643: [32, ['turboblaze']], 644: [29, ['teravolt']], 645: [15, ['sheer-force', 'sand-force']], 646: [30, ['pressure']], 647: [14, ['justified']], 648: [6, ['serene-grace']], 649: [15, ['download']], 650: [4, ['bulletproof', 'overgrow']], 651: [7, ['bulletproof', 'overgrow']], 652: [16, ['bulletproof', 'overgrow']], 653: [4, ['magician', 'blaze']], 654: [10, ['magician', 'blaze']], 655: [15, ['magician', 'blaze']], 656: [3, ['protean', 'torrent']], 657: [6, ['protean', 'torrent']], 658: [15, ['protean', 'torrent']], 659: [4, ['huge-power', 'cheek-pouch', 'pickup']], 660: [10, ['huge-power', 'cheek-pouch', 'pickup']], 661: [3, ['gale-wings', 'big-pecks']], 662: [7, ['gale-wings', 'flame-body']], 663: [12, ['gale-wings', 'flame-body']], 664: [3, ['friend-guard', 'compound-eyes', 'shield-dust']], 665: [3, ['friend-guard', 'shed-skin']], 666: [12, ['friend-guard', 'compound-eyes', 'shield-dust']], 667: [6, ['moxie', 'unnerve', 'rivalry']], 668: [15, ['moxie', 'unnerve', 'rivalry']], 669: [1, ['symbiosis', 'flower-veil']], 670: [2, ['symbiosis', 'flower-veil']], 671: [11, ['symbiosis', 'flower-veil']], 672: [9, ['grass-pelt', 'sap-sipper']], 673: [17, ['grass-pelt', 'sap-sipper']], 674: [6, ['scrappy', 'mold-breaker', 'iron-fist']], 675: [21, ['scrappy', 'mold-breaker', 'iron-fist']], 676: [12, ['fur-coat']], 677: [3, ['own-tempo', 'infiltrator', 'keen-eye']], 678: [6, ['prankster', 'infiltrator', 'keen-eye']], 679: [8, ['no-guard']], 680: [8, ['no-guard']], 681: [17, ['stance-change']], 682: [2, ['aroma-veil', 'healer']], 683: [8, ['aroma-veil', 'healer']], 684: [4, ['unburden', 'sweet-veil']], 685: [8, ['unburden', 'sweet-veil']], 686: [4, ['infiltrator', 'suction-cups', 'contrary']], 687: [15, ['infiltrator', 'suction-cups', 'contrary']], 688: [5, ['pickpocket', 'sniper', 'tough-claws']], 689: [13, ['pickpocket', 'sniper', 'tough-claws']], 690: [5, ['adaptability', 'poison-touch', 'poison-point']], 691: [18, ['adaptability', 'poison-touch', 'poison-point']], 692: [5, ['mega-launcher']], 693: [13, ['mega-launcher']], 694: [5, ['solar-power', 'sand-veil', 'dry-skin']], 695: [10, ['solar-power', 'sand-veil', 'dry-skin']], 696: [8, ['sturdy', 'strong-jaw']], 697: [25, ['rock-head', 'strong-jaw']], 698: [13, ['snow-warning', 'refrigerate']], 699: [27, ['snow-warning', 'refrigerate']], 700: [10, ['pixilate', 'cute-charm']], 701: [8, ['mold-breaker', 'unburden', 'limber']], 702: [2, ['plus', 'pickup', 'cheek-pouch']], 703: [3, ['sturdy', 'clear-body']], 704: [3, ['gooey', 'hydration', 'sap-sipper']], 705: [8, ['gooey', 'hydration', 'sap-sipper']], 706: [20, ['gooey', 'hydration', 'sap-sipper']], 707: [2, ['magician', 'prankster']], 708: [4, ['harvest', 'frisk', 'natural-cure']], 709: [15, ['harvest', 'frisk', 'natural-cure']], 710: [4, ['insomnia', 'frisk', 'pickup']], 711: [9, ['insomnia', 'frisk', 'pickup']], 712: [10, ['sturdy', 'ice-body', 'own-tempo']], 713: [20, ['sturdy', 'ice-body', 'own-tempo']], 714: [5, ['telepathy', 'infiltrator', 'frisk']], 715: [15, ['telepathy', 'infiltrator', 'frisk']], 716: [30, ['fairy-aura']], 717: [58, ['dark-aura']], 718: [50, ['aura-break']], 719: [7, ['clear-body']], 720: [5, ['magician']], 721: [17, ['water-absorb']]}\n"
     ]
    }
   ],
   "source": [
    "print(ab2)"
   ]
  },
  {
   "cell_type": "code",
   "execution_count": 8,
   "metadata": {},
   "outputs": [
    {
     "name": "stdout",
     "output_type": "stream",
     "text": [
      "    ID  Height    Ability1     Ability2 Ability3\n",
      "0  365      14   oblivious     ice-body     None\n",
      "1  366       4     rattled  shell-armor     None\n",
      "2  367      17  water-veil   swift-swim     None\n",
      "3  368      18   hydration   swift-swim     None\n",
      "4  369      10      sturdy    rock-head     None\n"
     ]
    }
   ],
   "source": [
    "lista2=[x for x in chain.from_iterable(ab2.values())]\n",
    "ids4=[x for x in ab2.keys()]\n",
    "ht=[]\n",
    "a1=[]\n",
    "a2=[]\n",
    "a3=[]\n",
    "i=0\n",
    "while i<len(lista2):\n",
    "    ht.append(lista2[i])\n",
    "    a1.append(lista2[i+1][0])\n",
    "    try:\n",
    "        a2.append(lista2[i+1][1])\n",
    "    except Exception:\n",
    "        a2.append(\"None\")\n",
    "    try:\n",
    "        a3.append(lista[i+1][2])\n",
    "    except Exception:\n",
    "        a3.append(\"None\")\n",
    "    i+=2\n",
    "    \n",
    "data2={\n",
    "\t\"ID\": ids4,\n",
    "\t\"Height\":ht,\n",
    "\t\"Ability1\":a1,\n",
    "\t\"Ability2\":a2,\n",
    "\t\"Ability3\":a3\n",
    "}\n",
    "df3=pd.DataFrame(data2)\n",
    "print(df3.head())"
   ]
  },
  {
   "cell_type": "code",
   "execution_count": 9,
   "metadata": {},
   "outputs": [
    {
     "name": "stdout",
     "output_type": "stream",
     "text": [
      "      ID  Height       Ability1       Ability2      Ability3\n",
      "0      1       7    chlorophyll       overgrow          None\n",
      "1      2      10    chlorophyll       overgrow          None\n",
      "2      3      20    chlorophyll       overgrow          None\n",
      "3      4       6    solar-power          blaze          None\n",
      "4      5      11    solar-power          blaze          None\n",
      "5      6      17    solar-power          blaze          None\n",
      "6      7       5      rain-dish        torrent          None\n",
      "7      8      10      rain-dish        torrent          None\n",
      "8      9      16      rain-dish        torrent          None\n",
      "9     10       3       run-away    shield-dust          None\n",
      "10    11       7      shed-skin           None          None\n",
      "11    12      11    tinted-lens  compound-eyes          None\n",
      "12    13       3       run-away    shield-dust          None\n",
      "13    14       6      shed-skin           None          None\n",
      "14    15      10         sniper          swarm          None\n",
      "15    16       3      big-pecks   tangled-feet      keen-eye\n",
      "16    17      11      big-pecks   tangled-feet      keen-eye\n",
      "17    18      15      big-pecks   tangled-feet      keen-eye\n",
      "18    19       3         hustle           guts      run-away\n",
      "19    20       7         hustle           guts      run-away\n",
      "20    21       3         sniper       keen-eye          None\n",
      "21    22      12         sniper       keen-eye          None\n",
      "22    23      20        unnerve      shed-skin    intimidate\n",
      "23    24      35        unnerve      shed-skin    intimidate\n",
      "24    25       4  lightning-rod         static          None\n",
      "25    26       8  lightning-rod         static          None\n",
      "26    27       6      sand-rush      sand-veil          None\n",
      "27    28      10      sand-rush      sand-veil          None\n",
      "28    29       4         hustle        rivalry  poison-point\n",
      "29    30       8         hustle        rivalry  poison-point\n",
      "..   ...     ...            ...            ...           ...\n",
      "327  692       5  mega-launcher           None  hyper-cutter\n",
      "328  693      13  mega-launcher           None          None\n",
      "329  694       5    solar-power      sand-veil          None\n",
      "330  695      10    solar-power      sand-veil          None\n",
      "331  696       8         sturdy     strong-jaw          None\n",
      "332  697      25      rock-head     strong-jaw          None\n",
      "333  698      13   snow-warning    refrigerate          None\n",
      "334  699      27   snow-warning    refrigerate          None\n",
      "335  700      10       pixilate     cute-charm          None\n",
      "336  701       8   mold-breaker       unburden          None\n",
      "337  702       2           plus         pickup          None\n",
      "338  703       3         sturdy     clear-body     oblivious\n",
      "339  704       3          gooey      hydration     oblivious\n",
      "340  705       8          gooey      hydration  hyper-cutter\n",
      "341  706      20          gooey      hydration  hyper-cutter\n",
      "342  707       2       magician      prankster          None\n",
      "343  708       4        harvest          frisk          None\n",
      "344  709      15        harvest          frisk          None\n",
      "345  710       4       insomnia          frisk          None\n",
      "346  711       9       insomnia          frisk          None\n",
      "347  712      10         sturdy       ice-body          None\n",
      "348  713      20         sturdy       ice-body    swift-swim\n",
      "349  714       5      telepathy    infiltrator  marvel-scale\n",
      "350  715      15      telepathy    infiltrator          None\n",
      "351  716      30     fairy-aura           None          None\n",
      "352  717      58      dark-aura           None      insomnia\n",
      "353  718      50     aura-break           None      insomnia\n",
      "354  719       7     clear-body           None          None\n",
      "355  720       5       magician           None          None\n",
      "356  721      17   water-absorb           None   chlorophyll\n",
      "\n",
      "[721 rows x 5 columns]\n"
     ]
    }
   ],
   "source": [
    "#Ahora juntamos df2 y df3\n",
    "dfT=pd.concat([df2,df3])\n",
    "print(dfT)"
   ]
  },
  {
   "cell_type": "code",
   "execution_count": 10,
   "metadata": {},
   "outputs": [
    {
     "data": {
      "text/html": [
       "<div>\n",
       "<style scoped>\n",
       "    .dataframe tbody tr th:only-of-type {\n",
       "        vertical-align: middle;\n",
       "    }\n",
       "\n",
       "    .dataframe tbody tr th {\n",
       "        vertical-align: top;\n",
       "    }\n",
       "\n",
       "    .dataframe thead th {\n",
       "        text-align: right;\n",
       "    }\n",
       "</style>\n",
       "<table border=\"1\" class=\"dataframe\">\n",
       "  <thead>\n",
       "    <tr style=\"text-align: right;\">\n",
       "      <th></th>\n",
       "      <th>ID</th>\n",
       "      <th>Name</th>\n",
       "      <th>Type 1</th>\n",
       "      <th>Type 2</th>\n",
       "      <th>Total</th>\n",
       "      <th>HP</th>\n",
       "      <th>Attack</th>\n",
       "      <th>Defense</th>\n",
       "      <th>Sp. Atk</th>\n",
       "      <th>Sp. Def</th>\n",
       "      <th>Speed</th>\n",
       "      <th>Generation</th>\n",
       "      <th>Legendary</th>\n",
       "    </tr>\n",
       "  </thead>\n",
       "  <tbody>\n",
       "    <tr>\n",
       "      <th>0</th>\n",
       "      <td>1</td>\n",
       "      <td>Bulbasaur</td>\n",
       "      <td>Grass</td>\n",
       "      <td>Poison</td>\n",
       "      <td>318</td>\n",
       "      <td>45</td>\n",
       "      <td>49</td>\n",
       "      <td>49</td>\n",
       "      <td>65</td>\n",
       "      <td>65</td>\n",
       "      <td>45</td>\n",
       "      <td>1</td>\n",
       "      <td>False</td>\n",
       "    </tr>\n",
       "    <tr>\n",
       "      <th>1</th>\n",
       "      <td>2</td>\n",
       "      <td>Ivysaur</td>\n",
       "      <td>Grass</td>\n",
       "      <td>Poison</td>\n",
       "      <td>405</td>\n",
       "      <td>60</td>\n",
       "      <td>62</td>\n",
       "      <td>63</td>\n",
       "      <td>80</td>\n",
       "      <td>80</td>\n",
       "      <td>60</td>\n",
       "      <td>1</td>\n",
       "      <td>False</td>\n",
       "    </tr>\n",
       "    <tr>\n",
       "      <th>2</th>\n",
       "      <td>3</td>\n",
       "      <td>Venusaur</td>\n",
       "      <td>Grass</td>\n",
       "      <td>Poison</td>\n",
       "      <td>525</td>\n",
       "      <td>80</td>\n",
       "      <td>82</td>\n",
       "      <td>83</td>\n",
       "      <td>100</td>\n",
       "      <td>100</td>\n",
       "      <td>80</td>\n",
       "      <td>1</td>\n",
       "      <td>False</td>\n",
       "    </tr>\n",
       "    <tr>\n",
       "      <th>3</th>\n",
       "      <td>3</td>\n",
       "      <td>VenusaurMega Venusaur</td>\n",
       "      <td>Grass</td>\n",
       "      <td>Poison</td>\n",
       "      <td>625</td>\n",
       "      <td>80</td>\n",
       "      <td>100</td>\n",
       "      <td>123</td>\n",
       "      <td>122</td>\n",
       "      <td>120</td>\n",
       "      <td>80</td>\n",
       "      <td>1</td>\n",
       "      <td>False</td>\n",
       "    </tr>\n",
       "    <tr>\n",
       "      <th>4</th>\n",
       "      <td>4</td>\n",
       "      <td>Charmander</td>\n",
       "      <td>Fire</td>\n",
       "      <td>NaN</td>\n",
       "      <td>309</td>\n",
       "      <td>39</td>\n",
       "      <td>52</td>\n",
       "      <td>43</td>\n",
       "      <td>60</td>\n",
       "      <td>50</td>\n",
       "      <td>65</td>\n",
       "      <td>1</td>\n",
       "      <td>False</td>\n",
       "    </tr>\n",
       "  </tbody>\n",
       "</table>\n",
       "</div>"
      ],
      "text/plain": [
       "   ID                   Name Type 1  Type 2  Total  HP  Attack  Defense  \\\n",
       "0   1              Bulbasaur  Grass  Poison    318  45      49       49   \n",
       "1   2                Ivysaur  Grass  Poison    405  60      62       63   \n",
       "2   3               Venusaur  Grass  Poison    525  80      82       83   \n",
       "3   3  VenusaurMega Venusaur  Grass  Poison    625  80     100      123   \n",
       "4   4             Charmander   Fire     NaN    309  39      52       43   \n",
       "\n",
       "   Sp. Atk  Sp. Def  Speed  Generation  Legendary  \n",
       "0       65       65     45           1      False  \n",
       "1       80       80     60           1      False  \n",
       "2      100      100     80           1      False  \n",
       "3      122      120     80           1      False  \n",
       "4       60       50     65           1      False  "
      ]
     },
     "metadata": {},
     "output_type": "display_data"
    }
   ],
   "source": [
    "df.rename(columns={\"#\":\"ID\"},inplace=True)\n",
    "display(df.head())"
   ]
  },
  {
   "cell_type": "code",
   "execution_count": 11,
   "metadata": {},
   "outputs": [
    {
     "data": {
      "text/html": [
       "<div>\n",
       "<style scoped>\n",
       "    .dataframe tbody tr th:only-of-type {\n",
       "        vertical-align: middle;\n",
       "    }\n",
       "\n",
       "    .dataframe tbody tr th {\n",
       "        vertical-align: top;\n",
       "    }\n",
       "\n",
       "    .dataframe thead th {\n",
       "        text-align: right;\n",
       "    }\n",
       "</style>\n",
       "<table border=\"1\" class=\"dataframe\">\n",
       "  <thead>\n",
       "    <tr style=\"text-align: right;\">\n",
       "      <th></th>\n",
       "      <th>ID</th>\n",
       "      <th>Name</th>\n",
       "      <th>Type 1</th>\n",
       "      <th>Type 2</th>\n",
       "      <th>Total</th>\n",
       "      <th>HP</th>\n",
       "      <th>Attack</th>\n",
       "      <th>Defense</th>\n",
       "      <th>Sp. Atk</th>\n",
       "      <th>Sp. Def</th>\n",
       "      <th>Speed</th>\n",
       "      <th>Generation</th>\n",
       "      <th>Legendary</th>\n",
       "      <th>Height</th>\n",
       "      <th>Ability1</th>\n",
       "      <th>Ability2</th>\n",
       "      <th>Ability3</th>\n",
       "    </tr>\n",
       "  </thead>\n",
       "  <tbody>\n",
       "    <tr>\n",
       "      <th>0</th>\n",
       "      <td>1</td>\n",
       "      <td>Bulbasaur</td>\n",
       "      <td>Grass</td>\n",
       "      <td>Poison</td>\n",
       "      <td>318</td>\n",
       "      <td>45</td>\n",
       "      <td>49</td>\n",
       "      <td>49</td>\n",
       "      <td>65</td>\n",
       "      <td>65</td>\n",
       "      <td>45</td>\n",
       "      <td>1</td>\n",
       "      <td>False</td>\n",
       "      <td>7</td>\n",
       "      <td>chlorophyll</td>\n",
       "      <td>overgrow</td>\n",
       "      <td>None</td>\n",
       "    </tr>\n",
       "    <tr>\n",
       "      <th>1</th>\n",
       "      <td>2</td>\n",
       "      <td>Ivysaur</td>\n",
       "      <td>Grass</td>\n",
       "      <td>Poison</td>\n",
       "      <td>405</td>\n",
       "      <td>60</td>\n",
       "      <td>62</td>\n",
       "      <td>63</td>\n",
       "      <td>80</td>\n",
       "      <td>80</td>\n",
       "      <td>60</td>\n",
       "      <td>1</td>\n",
       "      <td>False</td>\n",
       "      <td>10</td>\n",
       "      <td>chlorophyll</td>\n",
       "      <td>overgrow</td>\n",
       "      <td>None</td>\n",
       "    </tr>\n",
       "    <tr>\n",
       "      <th>2</th>\n",
       "      <td>3</td>\n",
       "      <td>Venusaur</td>\n",
       "      <td>Grass</td>\n",
       "      <td>Poison</td>\n",
       "      <td>525</td>\n",
       "      <td>80</td>\n",
       "      <td>82</td>\n",
       "      <td>83</td>\n",
       "      <td>100</td>\n",
       "      <td>100</td>\n",
       "      <td>80</td>\n",
       "      <td>1</td>\n",
       "      <td>False</td>\n",
       "      <td>20</td>\n",
       "      <td>chlorophyll</td>\n",
       "      <td>overgrow</td>\n",
       "      <td>None</td>\n",
       "    </tr>\n",
       "    <tr>\n",
       "      <th>3</th>\n",
       "      <td>3</td>\n",
       "      <td>VenusaurMega Venusaur</td>\n",
       "      <td>Grass</td>\n",
       "      <td>Poison</td>\n",
       "      <td>625</td>\n",
       "      <td>80</td>\n",
       "      <td>100</td>\n",
       "      <td>123</td>\n",
       "      <td>122</td>\n",
       "      <td>120</td>\n",
       "      <td>80</td>\n",
       "      <td>1</td>\n",
       "      <td>False</td>\n",
       "      <td>20</td>\n",
       "      <td>chlorophyll</td>\n",
       "      <td>overgrow</td>\n",
       "      <td>None</td>\n",
       "    </tr>\n",
       "    <tr>\n",
       "      <th>4</th>\n",
       "      <td>4</td>\n",
       "      <td>Charmander</td>\n",
       "      <td>Fire</td>\n",
       "      <td>NaN</td>\n",
       "      <td>309</td>\n",
       "      <td>39</td>\n",
       "      <td>52</td>\n",
       "      <td>43</td>\n",
       "      <td>60</td>\n",
       "      <td>50</td>\n",
       "      <td>65</td>\n",
       "      <td>1</td>\n",
       "      <td>False</td>\n",
       "      <td>6</td>\n",
       "      <td>solar-power</td>\n",
       "      <td>blaze</td>\n",
       "      <td>None</td>\n",
       "    </tr>\n",
       "  </tbody>\n",
       "</table>\n",
       "</div>"
      ],
      "text/plain": [
       "   ID                   Name Type 1  Type 2  Total  HP  Attack  Defense  \\\n",
       "0   1              Bulbasaur  Grass  Poison    318  45      49       49   \n",
       "1   2                Ivysaur  Grass  Poison    405  60      62       63   \n",
       "2   3               Venusaur  Grass  Poison    525  80      82       83   \n",
       "3   3  VenusaurMega Venusaur  Grass  Poison    625  80     100      123   \n",
       "4   4             Charmander   Fire     NaN    309  39      52       43   \n",
       "\n",
       "   Sp. Atk  Sp. Def  Speed  Generation  Legendary  Height     Ability1  \\\n",
       "0       65       65     45           1      False       7  chlorophyll   \n",
       "1       80       80     60           1      False      10  chlorophyll   \n",
       "2      100      100     80           1      False      20  chlorophyll   \n",
       "3      122      120     80           1      False      20  chlorophyll   \n",
       "4       60       50     65           1      False       6  solar-power   \n",
       "\n",
       "   Ability2 Ability3  \n",
       "0  overgrow     None  \n",
       "1  overgrow     None  \n",
       "2  overgrow     None  \n",
       "3  overgrow     None  \n",
       "4     blaze     None  "
      ]
     },
     "execution_count": 11,
     "metadata": {},
     "output_type": "execute_result"
    }
   ],
   "source": [
    "res=pd.merge(df,dfT,on=\"ID\")\n",
    "res.head()"
   ]
  },
  {
   "cell_type": "code",
   "execution_count": 12,
   "metadata": {},
   "outputs": [
    {
     "data": {
      "text/plain": [
       "'\\nclass PageGetter:\\n    driver = False\\n    def __init__(self, defaultBrowser=\\'firefox\\'):\\n        if defaultBrowser == \\'firefox\\':\\n            self.driver = webdriver.Firefox()\\n        elif defaultBrowser == \\'chrome\\':\\n            self.driver = webdriver.Chrome()\\n        elif defaultBrowser==\"safari\":\\n            self.driver = webdriver.Safari() \\n        else:\\n            raise Exception(\\'Not a valid browser\\')\\n    \\n    def getPage(self, url):\\n        if not self.driver:\\n            raise Exception(\"You should start a browser connection\")\\n        self.driver.get(url)\\n        html = self.driver.page_source\\n        soup = BeautifulSoup(html, \\'html.parser\\')\\n        return soup\\n    \\n    def close(self):\\n        self.driver.quit()\\n'"
      ]
     },
     "execution_count": 12,
     "metadata": {},
     "output_type": "execute_result"
    }
   ],
   "source": [
    "from bs4 import BeautifulSoup\n",
    "from selenium import webdriver\n",
    "\"\"\"\n",
    "class PageGetter:\n",
    "    driver = False\n",
    "    def __init__(self, defaultBrowser='firefox'):\n",
    "        if defaultBrowser == 'firefox':\n",
    "            self.driver = webdriver.Firefox()\n",
    "        elif defaultBrowser == 'chrome':\n",
    "            self.driver = webdriver.Chrome()\n",
    "        elif defaultBrowser==\"safari\":\n",
    "            self.driver = webdriver.Safari() \n",
    "        else:\n",
    "            raise Exception('Not a valid browser')\n",
    "    \n",
    "    def getPage(self, url):\n",
    "        if not self.driver:\n",
    "            raise Exception(\"You should start a browser connection\")\n",
    "        self.driver.get(url)\n",
    "        html = self.driver.page_source\n",
    "        soup = BeautifulSoup(html, 'html.parser')\n",
    "        return soup\n",
    "    \n",
    "    def close(self):\n",
    "        self.driver.quit()\n",
    "\"\"\""
   ]
  },
  {
   "cell_type": "code",
   "execution_count": 16,
   "metadata": {},
   "outputs": [
    {
     "name": "stdout",
     "output_type": "stream",
     "text": [
      "['Semilla', 'Semilla', 'Semilla', 'nulo', 'Lagartija', 'Llama', 'Llama', 'nulo', 'nulo', 'Tortuguita', 'Tortuga', 'Marisco', 'nulo', 'Gusano', 'Capullo', 'Mariposa', 'Oruga', 'Capullo', 'Abeja Ven.', 'nulo', 'Pajarito', 'Pájaro', 'Pájaro', 'nulo', 'Ratón', 'Ratón', 'Pajarito', 'Pico', 'Serpiente', 'Cobra', 'Ratón', 'Ratón', 'Ratón', 'Ratón', 'nulo', 'Pin Veneno', 'Taladro', 'nulo', 'Pin Veneno', 'Taladro', 'Hada', 'Hada', 'Zorro', 'Zorro', 'Globo', 'Globo', 'Murciélago', 'Murciélago', 'Hierbajo', 'Hierbajo', 'Flor', 'Hongo', 'Hongo', 'Insecto', 'Polilla Ven.', 'Topo', 'Topo', 'Gato Araña', 'Gato Fino', 'Pato', 'Pato', 'Mono Cerdo', 'Mono Cerdo', 'Perrito', 'Legendario', 'Renacuajo', 'Renacuajo', 'Renacuajo', 'Psi', 'Psi', 'Psi', 'nulo', 'Superpoder', 'Superpoder', 'Superpoder', 'Flor', 'Matamoscas', 'Matamoscas', 'Medusa', 'Medusa', 'Roca', 'Roca', 'Megatón', 'Caballo F.', 'Caballo F.', 'Atontado', 'Ermitaño', 'nulo', 'Imán', 'Imán', 'nulo', 'Ave Gemela', 'Ave Triple', 'León Marino', 'León Marino', 'Lodo', 'Lodo', 'Bivalvo', 'Bivalvo', 'Gas', 'Gas', 'Sombra', 'nulo', 'Serp. Roca', 'Hipnosis', 'Hipnosis', 'Cangrejo', 'Tenaza', 'Bola', 'Bola', 'Huevo', 'Coco', 'Solitario', 'Apilahueso', 'Patada', 'Puñetazo', 'Lametazo', 'Gas Venenoso', 'Gas Venenoso', 'Clavos', 'Taladro', 'Huevo', 'Enredadera', 'Padres', 'nulo', 'Dragón', 'Dragón', 'Pez Color', 'Pez Color', 'Estrellada', 'Misterioso', 'nulo', 'Mantis', 'Forma Humana', 'Eléctrico', 'Escupefuego', 'Escarabajo', 'nulo', 'Toro Bravo', 'Pez', 'Atrocidad', 'nulo', 'Transporte', 'Transform.', 'Evolución', 'Burbuja', 'Relámpago', 'Llama', 'Virtual', 'Espiral', 'Espiral', 'Marisco', 'Marisco', 'Fósil', 'nulo', 'Dormir', 'Congelar', 'Eléctrico', 'Llama', 'Dragón', 'Dragón', 'Dragón', 'Genético', 'nulo', 'nulo', 'N. Especie', 'Hoja', 'Hoja', 'Hierba', 'Ratón Fuego', 'Volcán', 'Volcán', 'Fauces', 'Fauces', 'Fauces', 'Explorador', 'Alargado', 'Búho', 'Búho', '5 Estrellas', '5 Estrellas', 'Escupesoga', 'Pata Larga', 'Murciélago', 'Rape', 'Luz', 'Ratoncito', 'Estrellada', 'Globo', 'Bolaclavos', 'Felicidad', 'Pajarito', 'Místico', 'Lana', 'Lana', 'Luz', 'nulo', 'Flor', 'Ratón Agua', 'Conejo Agua', 'Imitación', 'Rana', 'Algadón', 'Algadón', 'Algadón', 'Cola Larga', 'Semilla', 'Sol', 'Ala Clara', 'Pez Agua', 'Pez Agua', 'Sol', 'Luz Lunar', 'Oscuridad', 'Regio', 'Chirrido', 'Símbolo', 'Paciente', 'Gran Cuello', 'Larva', 'Larva', 'Serptierra', 'Escorpiala', 'Serpférrea', 'nulo', 'Hada', 'Hada', 'Globo', 'Tenaza', 'nulo', 'Moho', 'Unicornio', 'nulo', 'Garra Filo', 'Osito', 'Hibernante', 'Lava', 'Lava', 'Cerdo', 'Puerco', 'Coral', 'Reactor', 'Reactor', 'Reparto', 'Milano', 'Coraza Ave', 'Siniestro', 'Siniestro', 'nulo', 'Dragón', 'Narizotas', 'Coraza', 'Virtual', 'Gran Cuerno', 'Pintor', 'Peleón', 'Boca Abajo', 'Beso', 'Eléctrico', 'Ascuas', 'Lechera', 'Felicidad', 'Trueno', 'Volcán', 'Aurora', 'Piel Roca', 'Caparazón', 'Coraza', 'nulo', 'Buceo', 'Arcoíris', 'Viajetiempo', 'Geco Bosque', 'Geco Bosque', 'Monte', 'nulo', 'Polluelo', 'Ave Corral', 'Llameante', 'nulo', 'Pez Lodo', 'Pez Lodo', 'Pez Lodo', 'nulo', 'Mordisco', 'Mordisco', 'Mapachito', 'Lanzado', 'Gusano', 'Capullo', 'Mariposa', 'Capullo', 'Polilla Ven.', 'Alga', 'Alegre', 'Optimista', 'Bellota', 'Astuto', 'Malvado', 'Pequebuche', 'Buche', 'Gaviota', 'Ave Agua', 'Sensible', 'Sensorio', 'Envolvente', 'nulo', 'Zapatero', 'Globocular', 'Hongo', 'Hongo', 'Gandul', 'Mono Feroz', 'Holgazán', 'Aprendiz', 'Ninja', 'Muda', 'Susurro', 'Chillón', 'Escandaloso', 'Valiente', 'Empuje', 'A Topos', 'Brújula', 'Gatito', 'Cursi', 'Oscuridad', 'nulo', 'Tramposo', 'nulo', 'Cor. Férrea', 'Cor. Férrea', 'Cor. Férrea', 'nulo', 'Meditador', 'Meditador', 'nulo', 'Calambre', 'Descarga', 'nulo', 'Ánimo', 'Ánimo', 'Luciérnaga', 'Luciérnaga', 'Espina', 'Estómago', 'Bolsa Veneno', 'Feroz', 'Voraz', 'nulo', 'Ballenabola', 'Ballenaflot', 'Torpe', 'Erupción', 'nulo', 'Carbón', 'Saltarín', 'Manipulador', 'Panda Topos', 'Hormigaleón', 'Vibrante', 'Místico', 'Cactus', 'Espantajo', 'Ave Algodón', 'Cantor', 'nulo', 'Gato Hurón', 'Colmillos', 'Meteorito', 'Meteorito', 'Bigotudo', 'Bigotudo', 'Rufián', 'Granuja', 'Muñeca Barro', 'Muñeca Barro', 'Lila Mar', 'Percebe', 'Camarón', 'Armadura', 'Pez', 'Tierno', 'Clima', 'Camaleónico', 'Títere', 'Marioneta', 'nulo', 'Réquiem', 'Atrayente', 'Fruto', 'Sonido Aire', 'Catástrofe', 'nulo', 'Radiante', 'Gorro Nieve', 'Cara', 'nulo', 'Aplauso', 'Rodabola', 'Rompehielo', 'Bivalvo', 'Abisal', 'Mar Del Sur', 'Longevo', 'Cita', 'Cabeza Roca', 'Resistencia', 'Dragón', 'nulo', 'Bola Hierro', 'Garrahierro', 'Pata Hierro', 'nulo', 'Pico Roca', 'Iceberg', 'Hierro', 'Eón', 'nulo', 'Eón', 'nulo', 'Cuenca Mar', 'nulo', 'Continente', 'nulo', 'Cielo', 'nulo', 'Deseo', 'nulo', 'nulo', 'nulo', 'nulo', 'Hojita', 'Arboleda', 'Continente', 'Chimpancé', 'Juguetón', 'Llama', 'Pingüino', 'Pingüino', 'Emperador', 'Estornino', 'Estornino', 'Depredador', 'Gran Ratón', 'Castor', 'Grillo', 'Grillo', 'Flash', 'Chispa', 'Chispa Ojos', 'Brote', 'Ramillete', 'Cabezazo', 'Cabezazo', 'Escudo', 'Escudo', 'Larva', 'nulo', 'nulo', 'nulo', 'Polilla', 'Abejita', 'Colmena', 'Ardillalec', 'Nutria Mar.', 'Nutria Mar.', 'Cereza', 'Floración', 'Babosa Mar.', 'Babosa Mar.', 'Cola Larga', 'Globo', 'Dirigible', 'Conejo', 'Conejo', 'nulo', 'Mágico', 'Gran Jefe', 'Gastuto', 'Tigre Gato', 'Campana', 'Mofeta', 'Mofeta', 'Bronce', 'Cam. Bronce', 'Bonsái', 'nulo', 'Casita', 'Corchea', 'Prohibido', 'Terrascualo', 'Cueva', 'Mach', 'nulo', 'Comilón', 'Emanación', 'Aura', 'nulo', 'Hipo', 'Peso Pesado', 'Escorpión', 'Escorpiogro', 'Boca Tóxica', 'Boca Tóxica', 'Caza Bichos', 'Pez Ala', 'Neón', 'Milano', 'Árbol Nieve', 'Árbol Nieve', 'nulo', 'Garra Filo', 'Magnético', 'Lametazo', 'Taladro', 'Enredadera', 'Rayo', 'Explosión', 'Festejo', 'Libélula', 'Verdor', 'Nieve Fresca', 'Colmicorpio', 'Doscolmillos', 'Virtual', 'Cuchilla', 'nulo', 'Brújula', 'Grilletes', 'Tierra Fría', 'Plasma', 'nulo', 'nulo', 'nulo', 'nulo', 'nulo', 'Sabiduría', 'Sensorio', 'Voluntad', 'Temporal', 'Espacial', 'Domo Lava', 'Colosal', 'nulo', 'nulo', 'Lunar', 'Marino', 'Náutico', 'Oscuridad', 'nulo', 'nulo', 'Alfa', 'Victoria', 'Serp. Hierba', 'Serp. Hierba', 'Realeza', 'Cerdo Fuego', 'Cerdo Fuego', 'Cerdo Ígneo', 'Nutria', 'Superación', 'Majestuoso', 'Explorador', 'Alerta', 'Perrito', 'Leal', 'Magnánimo', 'Malicioso', 'Calculador', 'Mono Hierba', 'Mono Pincho', 'Ardiente', 'Lumbre', 'Salpicadura', 'Drenaje', 'Comesueños', 'Duermevela', 'Pichón', 'Torcaz', 'Altanero', 'Electrizado', 'Rayo', 'Manto', 'Mineral', 'Presurizado', 'Murciélago', 'Galante', 'Topo', 'Subterráneo', 'Escucha', 'nulo', 'Musculoso', 'Musculoso', 'Musculoso', 'Renacuajo', 'Vibrante', 'Vibrante', 'Judo', 'Kárate', 'Sastre', 'Arropado', 'Cuidador', 'Ciempiés', 'Pupaciempiés', 'Megaciempiés', 'Bolalgodón', 'Vuelalviento', 'Bulbo', 'Adornofloral', 'Violento', 'Desierdrilo', 'Desierdrilo', 'Amenazador', 'Daruma', 'nulo', 'nulo', 'Cactus', 'Casapiedra', 'Casarroca', 'Mudapiel', 'Gamberro', 'Pseudopájaro', 'Espíritu', 'Sepultura', 'Pretortuga', 'Pretortuga', 'Protopájaro', 'Protopájaro', 'Bolsabasura', 'Vertedero', 'Zorropillo', 'Disfrazorro', 'Chinchilla', 'Estola', 'Inquisitivo', 'Manipulador', 'Astro', 'Célula', 'Mitosis', 'Ampliación', 'Ave Agua', 'Cisne', 'Nieve Fresca', 'Nieve Helada', 'Nieve Gélida', 'Estacional', 'Estacional', 'Vuelardilla', 'Bocado', 'Soldado', 'Hongo', 'Hongo', 'Ingrávido', 'Ingrávido', 'Socorrista', 'Lapa', 'Electroaraña', 'Fruto Espina', 'Bola Espina', 'Engranaje', 'Engranaje', 'Engranaje', 'Electropez', 'Electropez', 'Electropez', 'Cerebro', 'Cerebro', 'Vela', 'Farolillo', 'Señuelo', 'Colmillo', 'Boca Hacha', 'Boca Hacha', 'Congelación', 'Glaciación', 'Cristal', 'Caracol', 'Sincaparazón', 'Trampa', 'Arte Marcial', 'Arte Marcial', 'Cueva', 'Autómata', 'Autómata', 'Tajo', 'Filo', 'Torocabezazo', 'Aguilucho', 'Aguerrido', 'Pañal', 'Aguilahueso', 'Hormiguero', 'Hormigacero', 'Tosco', 'Violento', 'Voraz', 'Antorcha', 'Sol', 'Tesón Acero', 'Gruta', 'Prado', 'nulo', 'nulo', 'nulo', 'nulo', 'Blanco Veraz', 'Negro Puro', 'nulo', 'nulo', 'Frontera', 'nulo', 'nulo', 'nulo', 'nulo', 'nulo', 'nulo', 'Paleozoico', 'Erizo', 'Corazaespín', 'Corazaespín', 'Zorro', 'Zorro', 'Zorro', 'Burburrana', 'Burburrana', 'Ninja', 'Excavador', 'Excavador', 'Petirrojo', 'Lumbre', 'Flamígero', 'Tiraescamas', 'Tiraescamas', 'Escamaposa', 'Leoncito', 'Regio', 'Monoflor', 'Monoflor', 'Jardín', 'Montura', 'Montura', 'Juguetón', 'Rostro Fiero', 'Caniche', 'Moderación', 'nulo', 'nulo', 'Tizona', 'Tizona', 'nulo', 'nulo', 'Aroma', 'Fragancia', 'Chuchería', 'Nata', 'Rotación', 'Revolución', 'Dos Manos', 'Combinación', 'Pseudoalga', 'Pseudoalga', 'Proyectagua', 'Lanzachorro', 'Generador', 'Generador', 'Heredero', 'Tirano', 'Tundra', 'Tundra', 'Vínculo', 'Lucha Libre', 'Antenas', 'Joya', 'Molusco', 'Molusco', 'Dragón', 'Llavero', 'Tocón', 'Árbol Viejo', 'nulo', 'nulo', 'nulo', 'nulo', 'nulo', 'nulo', 'nulo', 'nulo', 'Témpano', 'Iceberg', 'Onda Sónica', 'Onda Sónica', 'Creación', 'Destrucción', 'nulo', 'Joya', 'nulo', 'nulo', 'nulo', 'Vapor']\n"
     ]
    },
    {
     "data": {
      "text/plain": [
       "'\\nprint(categoria)\\nprint(res.Name.values[0].lower())\\nsoup=BeautifulSoup(requests.get(url+res.Name.values[0].lower()).text,\"html.parser\")\\nsel=soup.select(\".pokemon-ability-info .push-7 ul li .attribute-value\")\\nprint(sel)\\n'"
      ]
     },
     "execution_count": 16,
     "metadata": {},
     "output_type": "execute_result"
    }
   ],
   "source": [
    "#pg=PageGetter(\"safari\")\n",
    "#pg=PageGetter(\"safari\")\n",
    "categoria=[]\n",
    "\n",
    "x=0\n",
    "url=\"https://www.pokemon.com/es/pokedex/\"\n",
    "\n",
    "for e in res.Name.values: \n",
    "    soup=BeautifulSoup(requests.get(url+str(e).lower()).text,\"html.parser\")\n",
    "    sel=soup.select(\".pokemon-ability-info .push-7 ul li .attribute-value\")\n",
    "    try:\n",
    "        categoria.append(sel[0].text)\n",
    "    except Exception:\n",
    "        categoria.append(\"nulo\")\n",
    "\n",
    "    \n",
    "#soup=BeautifulSoup(requests.get(url+\"charmander\").text,\"html.parser\")\n",
    "print(categoria)\n",
    "\"\"\"\n",
    "print(categoria)\n",
    "print(res.Name.values[0].lower())\n",
    "soup=BeautifulSoup(requests.get(url+res.Name.values[0].lower()).text,\"html.parser\")\n",
    "sel=soup.select(\".pokemon-ability-info .push-7 ul li .attribute-value\")\n",
    "print(sel)\n",
    "\"\"\""
   ]
  },
  {
   "cell_type": "code",
   "execution_count": 17,
   "metadata": {},
   "outputs": [],
   "source": [
    "res[\"Categoria\"]=categoria"
   ]
  },
  {
   "cell_type": "code",
   "execution_count": 18,
   "metadata": {},
   "outputs": [
    {
     "data": {
      "text/html": [
       "<div>\n",
       "<style scoped>\n",
       "    .dataframe tbody tr th:only-of-type {\n",
       "        vertical-align: middle;\n",
       "    }\n",
       "\n",
       "    .dataframe tbody tr th {\n",
       "        vertical-align: top;\n",
       "    }\n",
       "\n",
       "    .dataframe thead th {\n",
       "        text-align: right;\n",
       "    }\n",
       "</style>\n",
       "<table border=\"1\" class=\"dataframe\">\n",
       "  <thead>\n",
       "    <tr style=\"text-align: right;\">\n",
       "      <th></th>\n",
       "      <th>ID</th>\n",
       "      <th>Name</th>\n",
       "      <th>Type 1</th>\n",
       "      <th>Type 2</th>\n",
       "      <th>Total</th>\n",
       "      <th>HP</th>\n",
       "      <th>Attack</th>\n",
       "      <th>Defense</th>\n",
       "      <th>Sp. Atk</th>\n",
       "      <th>Sp. Def</th>\n",
       "      <th>Speed</th>\n",
       "      <th>Generation</th>\n",
       "      <th>Legendary</th>\n",
       "      <th>Height</th>\n",
       "      <th>Ability1</th>\n",
       "      <th>Ability2</th>\n",
       "      <th>Ability3</th>\n",
       "      <th>Categoria</th>\n",
       "    </tr>\n",
       "  </thead>\n",
       "  <tbody>\n",
       "    <tr>\n",
       "      <th>0</th>\n",
       "      <td>1</td>\n",
       "      <td>Bulbasaur</td>\n",
       "      <td>Grass</td>\n",
       "      <td>Poison</td>\n",
       "      <td>318</td>\n",
       "      <td>45</td>\n",
       "      <td>49</td>\n",
       "      <td>49</td>\n",
       "      <td>65</td>\n",
       "      <td>65</td>\n",
       "      <td>45</td>\n",
       "      <td>1</td>\n",
       "      <td>False</td>\n",
       "      <td>7</td>\n",
       "      <td>chlorophyll</td>\n",
       "      <td>overgrow</td>\n",
       "      <td>None</td>\n",
       "      <td>Semilla</td>\n",
       "    </tr>\n",
       "    <tr>\n",
       "      <th>1</th>\n",
       "      <td>2</td>\n",
       "      <td>Ivysaur</td>\n",
       "      <td>Grass</td>\n",
       "      <td>Poison</td>\n",
       "      <td>405</td>\n",
       "      <td>60</td>\n",
       "      <td>62</td>\n",
       "      <td>63</td>\n",
       "      <td>80</td>\n",
       "      <td>80</td>\n",
       "      <td>60</td>\n",
       "      <td>1</td>\n",
       "      <td>False</td>\n",
       "      <td>10</td>\n",
       "      <td>chlorophyll</td>\n",
       "      <td>overgrow</td>\n",
       "      <td>None</td>\n",
       "      <td>Semilla</td>\n",
       "    </tr>\n",
       "    <tr>\n",
       "      <th>2</th>\n",
       "      <td>3</td>\n",
       "      <td>Venusaur</td>\n",
       "      <td>Grass</td>\n",
       "      <td>Poison</td>\n",
       "      <td>525</td>\n",
       "      <td>80</td>\n",
       "      <td>82</td>\n",
       "      <td>83</td>\n",
       "      <td>100</td>\n",
       "      <td>100</td>\n",
       "      <td>80</td>\n",
       "      <td>1</td>\n",
       "      <td>False</td>\n",
       "      <td>20</td>\n",
       "      <td>chlorophyll</td>\n",
       "      <td>overgrow</td>\n",
       "      <td>None</td>\n",
       "      <td>Semilla</td>\n",
       "    </tr>\n",
       "    <tr>\n",
       "      <th>3</th>\n",
       "      <td>3</td>\n",
       "      <td>VenusaurMega Venusaur</td>\n",
       "      <td>Grass</td>\n",
       "      <td>Poison</td>\n",
       "      <td>625</td>\n",
       "      <td>80</td>\n",
       "      <td>100</td>\n",
       "      <td>123</td>\n",
       "      <td>122</td>\n",
       "      <td>120</td>\n",
       "      <td>80</td>\n",
       "      <td>1</td>\n",
       "      <td>False</td>\n",
       "      <td>20</td>\n",
       "      <td>chlorophyll</td>\n",
       "      <td>overgrow</td>\n",
       "      <td>None</td>\n",
       "      <td>nulo</td>\n",
       "    </tr>\n",
       "    <tr>\n",
       "      <th>4</th>\n",
       "      <td>4</td>\n",
       "      <td>Charmander</td>\n",
       "      <td>Fire</td>\n",
       "      <td>NaN</td>\n",
       "      <td>309</td>\n",
       "      <td>39</td>\n",
       "      <td>52</td>\n",
       "      <td>43</td>\n",
       "      <td>60</td>\n",
       "      <td>50</td>\n",
       "      <td>65</td>\n",
       "      <td>1</td>\n",
       "      <td>False</td>\n",
       "      <td>6</td>\n",
       "      <td>solar-power</td>\n",
       "      <td>blaze</td>\n",
       "      <td>None</td>\n",
       "      <td>Lagartija</td>\n",
       "    </tr>\n",
       "  </tbody>\n",
       "</table>\n",
       "</div>"
      ],
      "text/plain": [
       "   ID                   Name Type 1  Type 2  Total  HP  Attack  Defense  \\\n",
       "0   1              Bulbasaur  Grass  Poison    318  45      49       49   \n",
       "1   2                Ivysaur  Grass  Poison    405  60      62       63   \n",
       "2   3               Venusaur  Grass  Poison    525  80      82       83   \n",
       "3   3  VenusaurMega Venusaur  Grass  Poison    625  80     100      123   \n",
       "4   4             Charmander   Fire     NaN    309  39      52       43   \n",
       "\n",
       "   Sp. Atk  Sp. Def  Speed  Generation  Legendary  Height     Ability1  \\\n",
       "0       65       65     45           1      False       7  chlorophyll   \n",
       "1       80       80     60           1      False      10  chlorophyll   \n",
       "2      100      100     80           1      False      20  chlorophyll   \n",
       "3      122      120     80           1      False      20  chlorophyll   \n",
       "4       60       50     65           1      False       6  solar-power   \n",
       "\n",
       "   Ability2 Ability3  Categoria  \n",
       "0  overgrow     None    Semilla  \n",
       "1  overgrow     None    Semilla  \n",
       "2  overgrow     None    Semilla  \n",
       "3  overgrow     None       nulo  \n",
       "4     blaze     None  Lagartija  "
      ]
     },
     "metadata": {},
     "output_type": "display_data"
    }
   ],
   "source": [
    "display(res.head())"
   ]
  },
  {
   "cell_type": "code",
   "execution_count": 37,
   "metadata": {},
   "outputs": [],
   "source": [
    "import matplotlib.pyplot as plt"
   ]
  },
  {
   "cell_type": "code",
   "execution_count": 21,
   "metadata": {},
   "outputs": [],
   "source": [
    "data=res.copy()"
   ]
  },
  {
   "cell_type": "code",
   "execution_count": 52,
   "metadata": {},
   "outputs": [
    {
     "data": {
      "image/png": "[encoded data removed]",
      "text/plain": [
       "<Figure size 432x288 with 1 Axes>"
      ]
     },
     "metadata": {
      "needs_background": "light"
     },
     "output_type": "display_data"
    }
   ],
   "source": [
    "my_plot=data.plot(\"Attack\",\"Defense\",kind=\"scatter\",title=\"Relación del poder de defensa junto al de ataque\")\n",
    "#%matplotlib inline\n",
    "plt.show()"
   ]
  },
  {
   "cell_type": "code",
   "execution_count": 51,
   "metadata": {},
   "outputs": [
    {
     "data": {
      "image/png": "[encoded data removed]",
      "text/plain": [
       "<Figure size 432x288 with 1 Axes>"
      ]
     },
     "metadata": {
      "needs_background": "light"
     },
     "output_type": "display_data"
    }
   ],
   "source": [
    "my_plot2=data.plot(\"Defense\",\"Height\",kind=\"scatter\",title=\"Relación de la altura con el poder de defensa\")\n",
    "#%matplotlib inline\n",
    "plt.show()"
   ]
  },
  {
   "cell_type": "code",
   "execution_count": 49,
   "metadata": {},
   "outputs": [
    {
     "data": {
      "image/png": "[encoded data removed]",
      "text/plain": [
       "<Figure size 432x288 with 1 Axes>"
      ]
     },
     "metadata": {
      "needs_background": "light"
     },
     "output_type": "display_data"
    }
   ],
   "source": [
    "def numerico(x):\n",
    "    if x:\n",
    "        return 1\n",
    "    else: return 0\n",
    "data[\"LegendaryNum\"]=data[\"Legendary\"].apply(numerico)\n",
    "my_plot3=data.plot(\"LegendaryNum\",\"Attack\",kind=\"scatter\",title=\"Poder de ataque dividido por pokemons legendarios o no\")\n",
    "#%matplotlib inline\n",
    "plt.show()"
   ]
  },
  {
   "cell_type": "code",
   "execution_count": 54,
   "metadata": {},
   "outputs": [
    {
     "data": {
      "image/png": "[encoded data removed]",
      "text/plain": [
       "<Figure size 432x288 with 1 Axes>"
      ]
     },
     "metadata": {
      "needs_background": "light"
     },
     "output_type": "display_data"
    }
   ],
   "source": [
    "pokemon=input(\"Introduzca el pokemon del cual busca su reult\")"
   ]
  },
  {
   "cell_type": "code",
   "execution_count": 56,
   "metadata": {},
   "outputs": [
    {
     "name": "stdout",
     "output_type": "stream",
     "text": [
      "Introduzca el pokemon deseado: pikachu\n"
     ]
    },
    {
     "data": {
      "text/html": [
       "<div>\n",
       "<style scoped>\n",
       "    .dataframe tbody tr th:only-of-type {\n",
       "        vertical-align: middle;\n",
       "    }\n",
       "\n",
       "    .dataframe tbody tr th {\n",
       "        vertical-align: top;\n",
       "    }\n",
       "\n",
       "    .dataframe thead th {\n",
       "        text-align: right;\n",
       "    }\n",
       "</style>\n",
       "<table border=\"1\" class=\"dataframe\">\n",
       "  <thead>\n",
       "    <tr style=\"text-align: right;\">\n",
       "      <th></th>\n",
       "      <th>ID</th>\n",
       "      <th>Name</th>\n",
       "      <th>Type 1</th>\n",
       "      <th>Type 2</th>\n",
       "      <th>Total</th>\n",
       "      <th>HP</th>\n",
       "      <th>Attack</th>\n",
       "      <th>Defense</th>\n",
       "      <th>Sp. Atk</th>\n",
       "      <th>Sp. Def</th>\n",
       "      <th>Speed</th>\n",
       "      <th>Generation</th>\n",
       "      <th>Legendary</th>\n",
       "      <th>Height</th>\n",
       "      <th>Ability1</th>\n",
       "      <th>Ability2</th>\n",
       "      <th>Ability3</th>\n",
       "      <th>Categoria</th>\n",
       "      <th>LegendaryNum</th>\n",
       "    </tr>\n",
       "  </thead>\n",
       "  <tbody>\n",
       "    <tr>\n",
       "      <th>30</th>\n",
       "      <td>25</td>\n",
       "      <td>Pikachu</td>\n",
       "      <td>Electric</td>\n",
       "      <td>NaN</td>\n",
       "      <td>320</td>\n",
       "      <td>35</td>\n",
       "      <td>55</td>\n",
       "      <td>40</td>\n",
       "      <td>50</td>\n",
       "      <td>50</td>\n",
       "      <td>90</td>\n",
       "      <td>1</td>\n",
       "      <td>False</td>\n",
       "      <td>4</td>\n",
       "      <td>lightning-rod</td>\n",
       "      <td>static</td>\n",
       "      <td>None</td>\n",
       "      <td>Ratón</td>\n",
       "      <td>0</td>\n",
       "    </tr>\n",
       "  </tbody>\n",
       "</table>\n",
       "</div>"
      ],
      "text/plain": [
       "    ID     Name    Type 1 Type 2  Total  HP  Attack  Defense  Sp. Atk  \\\n",
       "30  25  Pikachu  Electric    NaN    320  35      55       40       50   \n",
       "\n",
       "    Sp. Def  Speed  Generation  Legendary  Height       Ability1 Ability2  \\\n",
       "30       50     90           1      False       4  lightning-rod   static   \n",
       "\n",
       "   Ability3 Categoria  LegendaryNum  \n",
       "30     None     Ratón             0  "
      ]
     },
     "metadata": {},
     "output_type": "display_data"
    },
    {
     "data": {
      "text/html": [
       "<img src=\"https://raw.githubusercontent.com/PokeAPI/sprites/master/sprites/pokemon/25.png\"/>"
      ],
      "text/plain": [
       "<IPython.core.display.Image object>"
      ]
     },
     "metadata": {},
     "output_type": "display_data"
    }
   ],
   "source": [
    "from IPython.display import Image\n",
    "from IPython.core.display import HTML\n",
    "pokemon=input(\"Introduzca el pokemon deseado: \")\n",
    "result = requests.get('https://pokeapi.co/api/v2/pokemon/{}'.format(pokemon.lower()))\n",
    "result=result.json()\n",
    "display(data[data[\"Name\"]==pokemon.capitalize()])\n",
    "display(Image(url=result[\"sprites\"][\"front_default\"]))"
   ]
  },
  {
   "cell_type": "code",
   "execution_count": 59,
   "metadata": {},
   "outputs": [
    {
     "ename": "ValueError",
     "evalue": "Argument Z must be 2-dimensional.",
     "output_type": "error",
     "traceback": [
      "\u001b[0;31m---------------------------------------------------------------------------\u001b[0m",
      "\u001b[0;31mValueError\u001b[0m                                Traceback (most recent call last)",
      "\u001b[0;32m<ipython-input-59-efab439940dd>\u001b[0m in \u001b[0;36m<module>\u001b[0;34m\u001b[0m\n\u001b[1;32m      4\u001b[0m \u001b[0;31m#Agregamos un plano 3D\u001b[0m\u001b[0;34m\u001b[0m\u001b[0;34m\u001b[0m\u001b[0m\n\u001b[1;32m      5\u001b[0m \u001b[0max1\u001b[0m\u001b[0;34m=\u001b[0m\u001b[0mfig\u001b[0m\u001b[0;34m.\u001b[0m\u001b[0madd_subplot\u001b[0m\u001b[0;34m(\u001b[0m\u001b[0;36m111\u001b[0m\u001b[0;34m,\u001b[0m\u001b[0mprojection\u001b[0m\u001b[0;34m=\u001b[0m\u001b[0;34m\"3d\"\u001b[0m\u001b[0;34m)\u001b[0m\u001b[0;34m\u001b[0m\u001b[0m\n\u001b[0;32m----> 6\u001b[0;31m \u001b[0max1\u001b[0m\u001b[0;34m.\u001b[0m\u001b[0mplot_wireframe\u001b[0m\u001b[0;34m(\u001b[0m\u001b[0mdata\u001b[0m\u001b[0;34m[\u001b[0m\u001b[0;34m\"Attack\"\u001b[0m\u001b[0;34m]\u001b[0m\u001b[0;34m,\u001b[0m\u001b[0mdata\u001b[0m\u001b[0;34m[\u001b[0m\u001b[0;34m\"Defense\"\u001b[0m\u001b[0;34m]\u001b[0m\u001b[0;34m,\u001b[0m\u001b[0mdata\u001b[0m\u001b[0;34m[\u001b[0m\u001b[0;34m\"Total\"\u001b[0m\u001b[0;34m]\u001b[0m\u001b[0;34m)\u001b[0m\u001b[0;34m\u001b[0m\u001b[0m\n\u001b[0m\u001b[1;32m      7\u001b[0m \u001b[0mplt\u001b[0m\u001b[0;34m.\u001b[0m\u001b[0mshow\u001b[0m\u001b[0;34m(\u001b[0m\u001b[0;34m)\u001b[0m\u001b[0;34m\u001b[0m\u001b[0m\n",
      "\u001b[0;32m/Library/Frameworks/Python.framework/Versions/3.6/lib/python3.6/site-packages/mpl_toolkits/mplot3d/axes3d.py\u001b[0m in \u001b[0;36mplot_wireframe\u001b[0;34m(self, X, Y, Z, *args, **kwargs)\u001b[0m\n\u001b[1;32m   1831\u001b[0m         \u001b[0mhad_data\u001b[0m \u001b[0;34m=\u001b[0m \u001b[0mself\u001b[0m\u001b[0;34m.\u001b[0m\u001b[0mhas_data\u001b[0m\u001b[0;34m(\u001b[0m\u001b[0;34m)\u001b[0m\u001b[0;34m\u001b[0m\u001b[0m\n\u001b[1;32m   1832\u001b[0m         \u001b[0;32mif\u001b[0m \u001b[0mZ\u001b[0m\u001b[0;34m.\u001b[0m\u001b[0mndim\u001b[0m \u001b[0;34m!=\u001b[0m \u001b[0;36m2\u001b[0m\u001b[0;34m:\u001b[0m\u001b[0;34m\u001b[0m\u001b[0m\n\u001b[0;32m-> 1833\u001b[0;31m             \u001b[0;32mraise\u001b[0m \u001b[0mValueError\u001b[0m\u001b[0;34m(\u001b[0m\u001b[0;34m\"Argument Z must be 2-dimensional.\"\u001b[0m\u001b[0;34m)\u001b[0m\u001b[0;34m\u001b[0m\u001b[0m\n\u001b[0m\u001b[1;32m   1834\u001b[0m         \u001b[0;31m# FIXME: Support masked arrays\u001b[0m\u001b[0;34m\u001b[0m\u001b[0;34m\u001b[0m\u001b[0m\n\u001b[1;32m   1835\u001b[0m         \u001b[0mX\u001b[0m\u001b[0;34m,\u001b[0m \u001b[0mY\u001b[0m\u001b[0;34m,\u001b[0m \u001b[0mZ\u001b[0m \u001b[0;34m=\u001b[0m \u001b[0mnp\u001b[0m\u001b[0;34m.\u001b[0m\u001b[0mbroadcast_arrays\u001b[0m\u001b[0;34m(\u001b[0m\u001b[0mX\u001b[0m\u001b[0;34m,\u001b[0m \u001b[0mY\u001b[0m\u001b[0;34m,\u001b[0m \u001b[0mZ\u001b[0m\u001b[0;34m)\u001b[0m\u001b[0;34m\u001b[0m\u001b[0m\n",
      "\u001b[0;31mValueError\u001b[0m: Argument Z must be 2-dimensional."
     ]
    },
    {
     "data": {
      "image/png": "[encoded data removed]",
      "text/plain": [
       "<Figure size 432x288 with 1 Axes>"
      ]
     },
     "metadata": {
      "needs_background": "light"
     },
     "output_type": "display_data"
    }
   ],
   "source": [
    "from pylab import *\n"
   ]
  },
  {
   "cell_type": "code",
   "execution_count": null,
   "metadata": {},
   "outputs": [],
   "source": []
  }
 ],
 "metadata": {
  "kernelspec": {
   "display_name": "Python 3",
   "language": "python",
   "name": "python3"
  },
  "language_info": {
   "codemirror_mode": {
    "name": "ipython",
    "version": 3
   },
   "file_extension": ".py",
   "mimetype": "text/x-python",
   "name": "python",
   "nbconvert_exporter": "python",
   "pygments_lexer": "ipython3",
   "version": "3.6.5"
  }
 },
 "nbformat": 4,
 "nbformat_minor": 2
}
